{
  "nbformat": 4,
  "nbformat_minor": 0,
  "metadata": {
    "colab": {
      "provenance": [],
      "authorship_tag": "ABX9TyPG93Xbadza5Py7A68BIpwt",
      "include_colab_link": true
    },
    "kernelspec": {
      "name": "python3",
      "display_name": "Python 3"
    },
    "language_info": {
      "name": "python"
    }
  },
  "cells": [
    {
      "cell_type": "markdown",
      "metadata": {
        "id": "view-in-github",
        "colab_type": "text"
      },
      "source": [
        "<a href=\"https://colab.research.google.com/github/rojanridegreecollege/Python-mini-projects/blob/main/Asendingordet.ipynb\" target=\"_parent\"><img src=\"https://colab.research.google.com/assets/colab-badge.svg\" alt=\"Open In Colab\"/></a>"
      ]
    },
    {
      "cell_type": "code",
      "execution_count": 1,
      "metadata": {
        "colab": {
          "base_uri": "https://localhost:8080/"
        },
        "id": "8hCzmqStLvuV",
        "outputId": "2cb5e0ac-48de-49ac-cc26-d8d406e4cf2c"
      },
      "outputs": [
        {
          "output_type": "stream",
          "name": "stdout",
          "text": [
            "list1: [0, 1, 6, 3, 10, 4]\n",
            "list2: [0, 1, 3, 4, 6, 10]\n"
          ]
        }
      ],
      "source": [
        "numbers=[0,1,6,3,10,4]\n",
        "def asending_order():\n",
        "       print(\"list1:\",numbers)\n",
        "       numbers.sort()\n",
        "       print(\"list2:\",numbers)\n",
        "\n",
        "asending_order()"
      ]
    }
  ]
}