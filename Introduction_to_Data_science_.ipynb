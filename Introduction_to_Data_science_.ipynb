{
  "nbformat": 4,
  "nbformat_minor": 0,
  "metadata": {
    "colab": {
      "provenance": [],
      "authorship_tag": "ABX9TyP9BVKFNSYZDpJDCo2frSiT",
      "include_colab_link": true
    },
    "kernelspec": {
      "name": "python3",
      "display_name": "Python 3"
    },
    "language_info": {
      "name": "python"
    }
  },
  "cells": [
    {
      "cell_type": "markdown",
      "metadata": {
        "id": "view-in-github",
        "colab_type": "text"
      },
      "source": [
        "<a href=\"https://colab.research.google.com/github/rojanridegreecollege/Python-mini-projects/blob/main/Introduction_to_Data_science_.ipynb\" target=\"_parent\"><img src=\"https://colab.research.google.com/assets/colab-badge.svg\" alt=\"Open In Colab\"/></a>"
      ]
    },
    {
      "cell_type": "code",
      "execution_count": null,
      "metadata": {
        "id": "NY_XxdLYQrKN"
      },
      "outputs": [],
      "source": [
        "import random"
      ]
    },
    {
      "cell_type": "code",
      "source": [
        "from google.colab import drive\n",
        "drive.mount('/content/drive')"
      ],
      "metadata": {
        "colab": {
          "base_uri": "https://localhost:8080/"
        },
        "id": "PCQbQ4nrQuF4",
        "outputId": "98aa0c2c-81e0-4c22-9164-e5790e592199"
      },
      "execution_count": null,
      "outputs": [
        {
          "output_type": "stream",
          "name": "stdout",
          "text": [
            "Mounted at /content/drive\n"
          ]
        }
      ]
    },
    {
      "cell_type": "code",
      "source": [
        "import pandas as pd"
      ],
      "metadata": {
        "id": "-faOXvH3RD1q"
      },
      "execution_count": null,
      "outputs": []
    },
    {
      "cell_type": "code",
      "source": [
        "datasetpath=('/content/drive/MyDrive/matches_1930_2022.csv')"
      ],
      "metadata": {
        "id": "ZPuSYGxvRHFJ"
      },
      "execution_count": 7,
      "outputs": []
    },
    {
      "cell_type": "code",
      "source": [
        "df=pd.read_csv(datasetpath)"
      ],
      "metadata": {
        "id": "86jrCI-URagV"
      },
      "execution_count": 11,
      "outputs": []
    },
    {
      "cell_type": "code",
      "source": [
        "df"
      ],
      "metadata": {
        "colab": {
          "base_uri": "https://localhost:8080/",
          "height": 565
        },
        "id": "xzi44f6RRgWl",
        "outputId": "b4aa1ea2-479b-468f-8167-a1f68c4152e7"
      },
      "execution_count": 12,
      "outputs": [
        {
          "output_type": "execute_result",
          "data": {
            "text/plain": [
              "         home_team away_team  home_score  home_xg  home_penalty  away_score  \\\n",
              "0        Argentina    France           3      3.3           4.0           3   \n",
              "1          Croatia   Morocco           2      0.7           NaN           1   \n",
              "2           France   Morocco           2      2.0           NaN           0   \n",
              "3        Argentina   Croatia           3      2.3           NaN           0   \n",
              "4          Morocco  Portugal           1      1.4           NaN           0   \n",
              "..             ...       ...         ...      ...           ...         ...   \n",
              "959      Argentina    France           1      NaN           NaN           0   \n",
              "960     Yugoslavia    Brazil           2      NaN           NaN           1   \n",
              "961        Romania      Peru           3      NaN           NaN           1   \n",
              "962  United States   Belgium           3      NaN           NaN           0   \n",
              "963         France    Mexico           4      NaN           NaN           1   \n",
              "\n",
              "     away_xg  away_penalty      home_manager          home_captain  ...  \\\n",
              "0        2.2           2.0    Lionel Scaloni          Lionel Messi  ...   \n",
              "1        1.2           NaN      Zlatko Dalić           Luka Modrić  ...   \n",
              "2        0.9           NaN  Didier Deschamps           Hugo Lloris  ...   \n",
              "3        0.5           NaN    Lionel Scaloni          Lionel Messi  ...   \n",
              "4        0.9           NaN   Hoalid Regragui          Romain Saïss  ...   \n",
              "..       ...           ...               ...                   ...  ...   \n",
              "959      NaN           NaN  Francisco Olazar       Manuel Ferreira  ...   \n",
              "960      NaN           NaN   Bosko Simonovic       Milutin Ivković  ...   \n",
              "961      NaN           NaN     Octav Luchide          Emerich Vogl  ...   \n",
              "962      NaN           NaN        Bob Millar            Tom Florie  ...   \n",
              "963      NaN           NaN     Raoul Caudron  Alexandre Villaplane  ...   \n",
              "\n",
              "    home_penalty_shootout_miss_long  \\\n",
              "0                               NaN   \n",
              "1                               NaN   \n",
              "2                               NaN   \n",
              "3                               NaN   \n",
              "4                               NaN   \n",
              "..                              ...   \n",
              "959                             NaN   \n",
              "960                             NaN   \n",
              "961                             NaN   \n",
              "962                             NaN   \n",
              "963                             NaN   \n",
              "\n",
              "                       away_penalty_shootout_miss_long  home_red_card  \\\n",
              "0    ['3|1:1|Kingsley Coman', '5|2:1|Aurélien Tchou...            NaN   \n",
              "1                                                  NaN            NaN   \n",
              "2                                                  NaN            NaN   \n",
              "3                                                  NaN            NaN   \n",
              "4                                                  NaN            NaN   \n",
              "..                                                 ...            ...   \n",
              "959                                                NaN            NaN   \n",
              "960                                                NaN            NaN   \n",
              "961                                                NaN            NaN   \n",
              "962                                                NaN            NaN   \n",
              "963                                                NaN            NaN   \n",
              "\n",
              "            away_red_card   home_yellow_red_card away_yellow_red_card  \\\n",
              "0                     NaN                    NaN                  NaN   \n",
              "1                     NaN                    NaN                  NaN   \n",
              "2                     NaN                    NaN                  NaN   \n",
              "3                     NaN                    NaN                  NaN   \n",
              "4                     NaN  Walid Cheddira · 90+3                  NaN   \n",
              "..                    ...                    ...                  ...   \n",
              "959                   NaN                    NaN                  NaN   \n",
              "960                   NaN                    NaN                  NaN   \n",
              "961  Plácido Galindo · 70                    NaN                  NaN   \n",
              "962                   NaN                    NaN                  NaN   \n",
              "963                   NaN                    NaN                  NaN   \n",
              "\n",
              "                                 home_yellow_card_long  \\\n",
              "0    ['45+7&rsquor;|2:0|Enzo Fernández', '90+8&rsqu...   \n",
              "1                                                  NaN   \n",
              "2                                                  NaN   \n",
              "3    ['68&rsquor;|2:0|Cristian Romero', '71&rsquor;...   \n",
              "4    ['70&rsquor;|1:0|Achraf Dari', '90+1&rsquor;|1...   \n",
              "..                                                 ...   \n",
              "959                                                NaN   \n",
              "960                                                NaN   \n",
              "961                                                NaN   \n",
              "962                                                NaN   \n",
              "963                                                NaN   \n",
              "\n",
              "                                 away_yellow_card_long  \\\n",
              "0    ['55&rsquor;|2:0|Adrien Rabiot', '87&rsquor;|2...   \n",
              "1    ['69&rsquor;|2:1|Azzedine Ounahi', '84&rsquor;...   \n",
              "2                    ['27&rsquor;|1:0|Sofiane Boufal']   \n",
              "3    ['32&rsquor;|0:0|Mateo Kovačić', '32&rsquor;|0...   \n",
              "4                           ['87&rsquor;|1:0|Vitinha']   \n",
              "..                                                 ...   \n",
              "959                                                NaN   \n",
              "960                                                NaN   \n",
              "961                                                NaN   \n",
              "962                                                NaN   \n",
              "963                                                NaN   \n",
              "\n",
              "                               home_substitute_in_long  \\\n",
              "0    ['64&rsquor;|2:0|Marcos Acuña|for Ángel Di Mar...   \n",
              "1    ['61&rsquor;|2:1|Nikola Vlašić|for Andrej Kram...   \n",
              "2    ['65&rsquor;|1:0|Marcus Thuram|for Olivier Gir...   \n",
              "3    ['62&rsquor;|2:0|Lisandro Martínez|for Leandro...   \n",
              "4    ['57&rsquor;|1:0|Achraf Dari|for Romain Saïss'...   \n",
              "..                                                 ...   \n",
              "959                                                NaN   \n",
              "960                                                NaN   \n",
              "961                                                NaN   \n",
              "962                                                NaN   \n",
              "963                                                NaN   \n",
              "\n",
              "                               away_substitute_in_long  \n",
              "0    ['41&rsquor;|2:0|Randal Kolo Muani|for Ousmane...  \n",
              "1    ['46&rsquor;|2:1|Ilias Chair|for Abdelhamid Sa...  \n",
              "2    ['21&rsquor;|1:0|Selim Amallah|for Romain Saïs...  \n",
              "3    ['46&rsquor;|2:0|Mislav Oršić|for Borna Sosa',...  \n",
              "4    ['51&rsquor;|1:0|João Cancelo|for Raphaël Guer...  \n",
              "..                                                 ...  \n",
              "959                                                NaN  \n",
              "960                                                NaN  \n",
              "961                                                NaN  \n",
              "962                                                NaN  \n",
              "963                                                NaN  \n",
              "\n",
              "[964 rows x 44 columns]"
            ],
            "text/html": [
              "\n",
              "  <div id=\"df-9435351c-70cc-4843-9dcb-86acf7360ade\" class=\"colab-df-container\">\n",
              "    <div>\n",
              "<style scoped>\n",
              "    .dataframe tbody tr th:only-of-type {\n",
              "        vertical-align: middle;\n",
              "    }\n",
              "\n",
              "    .dataframe tbody tr th {\n",
              "        vertical-align: top;\n",
              "    }\n",
              "\n",
              "    .dataframe thead th {\n",
              "        text-align: right;\n",
              "    }\n",
              "</style>\n",
              "<table border=\"1\" class=\"dataframe\">\n",
              "  <thead>\n",
              "    <tr style=\"text-align: right;\">\n",
              "      <th></th>\n",
              "      <th>home_team</th>\n",
              "      <th>away_team</th>\n",
              "      <th>home_score</th>\n",
              "      <th>home_xg</th>\n",
              "      <th>home_penalty</th>\n",
              "      <th>away_score</th>\n",
              "      <th>away_xg</th>\n",
              "      <th>away_penalty</th>\n",
              "      <th>home_manager</th>\n",
              "      <th>home_captain</th>\n",
              "      <th>...</th>\n",
              "      <th>home_penalty_shootout_miss_long</th>\n",
              "      <th>away_penalty_shootout_miss_long</th>\n",
              "      <th>home_red_card</th>\n",
              "      <th>away_red_card</th>\n",
              "      <th>home_yellow_red_card</th>\n",
              "      <th>away_yellow_red_card</th>\n",
              "      <th>home_yellow_card_long</th>\n",
              "      <th>away_yellow_card_long</th>\n",
              "      <th>home_substitute_in_long</th>\n",
              "      <th>away_substitute_in_long</th>\n",
              "    </tr>\n",
              "  </thead>\n",
              "  <tbody>\n",
              "    <tr>\n",
              "      <th>0</th>\n",
              "      <td>Argentina</td>\n",
              "      <td>France</td>\n",
              "      <td>3</td>\n",
              "      <td>3.3</td>\n",
              "      <td>4.0</td>\n",
              "      <td>3</td>\n",
              "      <td>2.2</td>\n",
              "      <td>2.0</td>\n",
              "      <td>Lionel Scaloni</td>\n",
              "      <td>Lionel Messi</td>\n",
              "      <td>...</td>\n",
              "      <td>NaN</td>\n",
              "      <td>['3|1:1|Kingsley Coman', '5|2:1|Aurélien Tchou...</td>\n",
              "      <td>NaN</td>\n",
              "      <td>NaN</td>\n",
              "      <td>NaN</td>\n",
              "      <td>NaN</td>\n",
              "      <td>['45+7&amp;rsquor;|2:0|Enzo Fernández', '90+8&amp;rsqu...</td>\n",
              "      <td>['55&amp;rsquor;|2:0|Adrien Rabiot', '87&amp;rsquor;|2...</td>\n",
              "      <td>['64&amp;rsquor;|2:0|Marcos Acuña|for Ángel Di Mar...</td>\n",
              "      <td>['41&amp;rsquor;|2:0|Randal Kolo Muani|for Ousmane...</td>\n",
              "    </tr>\n",
              "    <tr>\n",
              "      <th>1</th>\n",
              "      <td>Croatia</td>\n",
              "      <td>Morocco</td>\n",
              "      <td>2</td>\n",
              "      <td>0.7</td>\n",
              "      <td>NaN</td>\n",
              "      <td>1</td>\n",
              "      <td>1.2</td>\n",
              "      <td>NaN</td>\n",
              "      <td>Zlatko Dalić</td>\n",
              "      <td>Luka Modrić</td>\n",
              "      <td>...</td>\n",
              "      <td>NaN</td>\n",
              "      <td>NaN</td>\n",
              "      <td>NaN</td>\n",
              "      <td>NaN</td>\n",
              "      <td>NaN</td>\n",
              "      <td>NaN</td>\n",
              "      <td>NaN</td>\n",
              "      <td>['69&amp;rsquor;|2:1|Azzedine Ounahi', '84&amp;rsquor;...</td>\n",
              "      <td>['61&amp;rsquor;|2:1|Nikola Vlašić|for Andrej Kram...</td>\n",
              "      <td>['46&amp;rsquor;|2:1|Ilias Chair|for Abdelhamid Sa...</td>\n",
              "    </tr>\n",
              "    <tr>\n",
              "      <th>2</th>\n",
              "      <td>France</td>\n",
              "      <td>Morocco</td>\n",
              "      <td>2</td>\n",
              "      <td>2.0</td>\n",
              "      <td>NaN</td>\n",
              "      <td>0</td>\n",
              "      <td>0.9</td>\n",
              "      <td>NaN</td>\n",
              "      <td>Didier Deschamps</td>\n",
              "      <td>Hugo Lloris</td>\n",
              "      <td>...</td>\n",
              "      <td>NaN</td>\n",
              "      <td>NaN</td>\n",
              "      <td>NaN</td>\n",
              "      <td>NaN</td>\n",
              "      <td>NaN</td>\n",
              "      <td>NaN</td>\n",
              "      <td>NaN</td>\n",
              "      <td>['27&amp;rsquor;|1:0|Sofiane Boufal']</td>\n",
              "      <td>['65&amp;rsquor;|1:0|Marcus Thuram|for Olivier Gir...</td>\n",
              "      <td>['21&amp;rsquor;|1:0|Selim Amallah|for Romain Saïs...</td>\n",
              "    </tr>\n",
              "    <tr>\n",
              "      <th>3</th>\n",
              "      <td>Argentina</td>\n",
              "      <td>Croatia</td>\n",
              "      <td>3</td>\n",
              "      <td>2.3</td>\n",
              "      <td>NaN</td>\n",
              "      <td>0</td>\n",
              "      <td>0.5</td>\n",
              "      <td>NaN</td>\n",
              "      <td>Lionel Scaloni</td>\n",
              "      <td>Lionel Messi</td>\n",
              "      <td>...</td>\n",
              "      <td>NaN</td>\n",
              "      <td>NaN</td>\n",
              "      <td>NaN</td>\n",
              "      <td>NaN</td>\n",
              "      <td>NaN</td>\n",
              "      <td>NaN</td>\n",
              "      <td>['68&amp;rsquor;|2:0|Cristian Romero', '71&amp;rsquor;...</td>\n",
              "      <td>['32&amp;rsquor;|0:0|Mateo Kovačić', '32&amp;rsquor;|0...</td>\n",
              "      <td>['62&amp;rsquor;|2:0|Lisandro Martínez|for Leandro...</td>\n",
              "      <td>['46&amp;rsquor;|2:0|Mislav Oršić|for Borna Sosa',...</td>\n",
              "    </tr>\n",
              "    <tr>\n",
              "      <th>4</th>\n",
              "      <td>Morocco</td>\n",
              "      <td>Portugal</td>\n",
              "      <td>1</td>\n",
              "      <td>1.4</td>\n",
              "      <td>NaN</td>\n",
              "      <td>0</td>\n",
              "      <td>0.9</td>\n",
              "      <td>NaN</td>\n",
              "      <td>Hoalid Regragui</td>\n",
              "      <td>Romain Saïss</td>\n",
              "      <td>...</td>\n",
              "      <td>NaN</td>\n",
              "      <td>NaN</td>\n",
              "      <td>NaN</td>\n",
              "      <td>NaN</td>\n",
              "      <td>Walid Cheddira · 90+3</td>\n",
              "      <td>NaN</td>\n",
              "      <td>['70&amp;rsquor;|1:0|Achraf Dari', '90+1&amp;rsquor;|1...</td>\n",
              "      <td>['87&amp;rsquor;|1:0|Vitinha']</td>\n",
              "      <td>['57&amp;rsquor;|1:0|Achraf Dari|for Romain Saïss'...</td>\n",
              "      <td>['51&amp;rsquor;|1:0|João Cancelo|for Raphaël Guer...</td>\n",
              "    </tr>\n",
              "    <tr>\n",
              "      <th>...</th>\n",
              "      <td>...</td>\n",
              "      <td>...</td>\n",
              "      <td>...</td>\n",
              "      <td>...</td>\n",
              "      <td>...</td>\n",
              "      <td>...</td>\n",
              "      <td>...</td>\n",
              "      <td>...</td>\n",
              "      <td>...</td>\n",
              "      <td>...</td>\n",
              "      <td>...</td>\n",
              "      <td>...</td>\n",
              "      <td>...</td>\n",
              "      <td>...</td>\n",
              "      <td>...</td>\n",
              "      <td>...</td>\n",
              "      <td>...</td>\n",
              "      <td>...</td>\n",
              "      <td>...</td>\n",
              "      <td>...</td>\n",
              "      <td>...</td>\n",
              "    </tr>\n",
              "    <tr>\n",
              "      <th>959</th>\n",
              "      <td>Argentina</td>\n",
              "      <td>France</td>\n",
              "      <td>1</td>\n",
              "      <td>NaN</td>\n",
              "      <td>NaN</td>\n",
              "      <td>0</td>\n",
              "      <td>NaN</td>\n",
              "      <td>NaN</td>\n",
              "      <td>Francisco Olazar</td>\n",
              "      <td>Manuel Ferreira</td>\n",
              "      <td>...</td>\n",
              "      <td>NaN</td>\n",
              "      <td>NaN</td>\n",
              "      <td>NaN</td>\n",
              "      <td>NaN</td>\n",
              "      <td>NaN</td>\n",
              "      <td>NaN</td>\n",
              "      <td>NaN</td>\n",
              "      <td>NaN</td>\n",
              "      <td>NaN</td>\n",
              "      <td>NaN</td>\n",
              "    </tr>\n",
              "    <tr>\n",
              "      <th>960</th>\n",
              "      <td>Yugoslavia</td>\n",
              "      <td>Brazil</td>\n",
              "      <td>2</td>\n",
              "      <td>NaN</td>\n",
              "      <td>NaN</td>\n",
              "      <td>1</td>\n",
              "      <td>NaN</td>\n",
              "      <td>NaN</td>\n",
              "      <td>Bosko Simonovic</td>\n",
              "      <td>Milutin Ivković</td>\n",
              "      <td>...</td>\n",
              "      <td>NaN</td>\n",
              "      <td>NaN</td>\n",
              "      <td>NaN</td>\n",
              "      <td>NaN</td>\n",
              "      <td>NaN</td>\n",
              "      <td>NaN</td>\n",
              "      <td>NaN</td>\n",
              "      <td>NaN</td>\n",
              "      <td>NaN</td>\n",
              "      <td>NaN</td>\n",
              "    </tr>\n",
              "    <tr>\n",
              "      <th>961</th>\n",
              "      <td>Romania</td>\n",
              "      <td>Peru</td>\n",
              "      <td>3</td>\n",
              "      <td>NaN</td>\n",
              "      <td>NaN</td>\n",
              "      <td>1</td>\n",
              "      <td>NaN</td>\n",
              "      <td>NaN</td>\n",
              "      <td>Octav Luchide</td>\n",
              "      <td>Emerich Vogl</td>\n",
              "      <td>...</td>\n",
              "      <td>NaN</td>\n",
              "      <td>NaN</td>\n",
              "      <td>NaN</td>\n",
              "      <td>Plácido Galindo · 70</td>\n",
              "      <td>NaN</td>\n",
              "      <td>NaN</td>\n",
              "      <td>NaN</td>\n",
              "      <td>NaN</td>\n",
              "      <td>NaN</td>\n",
              "      <td>NaN</td>\n",
              "    </tr>\n",
              "    <tr>\n",
              "      <th>962</th>\n",
              "      <td>United States</td>\n",
              "      <td>Belgium</td>\n",
              "      <td>3</td>\n",
              "      <td>NaN</td>\n",
              "      <td>NaN</td>\n",
              "      <td>0</td>\n",
              "      <td>NaN</td>\n",
              "      <td>NaN</td>\n",
              "      <td>Bob Millar</td>\n",
              "      <td>Tom Florie</td>\n",
              "      <td>...</td>\n",
              "      <td>NaN</td>\n",
              "      <td>NaN</td>\n",
              "      <td>NaN</td>\n",
              "      <td>NaN</td>\n",
              "      <td>NaN</td>\n",
              "      <td>NaN</td>\n",
              "      <td>NaN</td>\n",
              "      <td>NaN</td>\n",
              "      <td>NaN</td>\n",
              "      <td>NaN</td>\n",
              "    </tr>\n",
              "    <tr>\n",
              "      <th>963</th>\n",
              "      <td>France</td>\n",
              "      <td>Mexico</td>\n",
              "      <td>4</td>\n",
              "      <td>NaN</td>\n",
              "      <td>NaN</td>\n",
              "      <td>1</td>\n",
              "      <td>NaN</td>\n",
              "      <td>NaN</td>\n",
              "      <td>Raoul Caudron</td>\n",
              "      <td>Alexandre Villaplane</td>\n",
              "      <td>...</td>\n",
              "      <td>NaN</td>\n",
              "      <td>NaN</td>\n",
              "      <td>NaN</td>\n",
              "      <td>NaN</td>\n",
              "      <td>NaN</td>\n",
              "      <td>NaN</td>\n",
              "      <td>NaN</td>\n",
              "      <td>NaN</td>\n",
              "      <td>NaN</td>\n",
              "      <td>NaN</td>\n",
              "    </tr>\n",
              "  </tbody>\n",
              "</table>\n",
              "<p>964 rows × 44 columns</p>\n",
              "</div>\n",
              "    <div class=\"colab-df-buttons\">\n",
              "\n",
              "  <div class=\"colab-df-container\">\n",
              "    <button class=\"colab-df-convert\" onclick=\"convertToInteractive('df-9435351c-70cc-4843-9dcb-86acf7360ade')\"\n",
              "            title=\"Convert this dataframe to an interactive table.\"\n",
              "            style=\"display:none;\">\n",
              "\n",
              "  <svg xmlns=\"http://www.w3.org/2000/svg\" height=\"24px\" viewBox=\"0 -960 960 960\">\n",
              "    <path d=\"M120-120v-720h720v720H120Zm60-500h600v-160H180v160Zm220 220h160v-160H400v160Zm0 220h160v-160H400v160ZM180-400h160v-160H180v160Zm440 0h160v-160H620v160ZM180-180h160v-160H180v160Zm440 0h160v-160H620v160Z\"/>\n",
              "  </svg>\n",
              "    </button>\n",
              "\n",
              "  <style>\n",
              "    .colab-df-container {\n",
              "      display:flex;\n",
              "      gap: 12px;\n",
              "    }\n",
              "\n",
              "    .colab-df-convert {\n",
              "      background-color: #E8F0FE;\n",
              "      border: none;\n",
              "      border-radius: 50%;\n",
              "      cursor: pointer;\n",
              "      display: none;\n",
              "      fill: #1967D2;\n",
              "      height: 32px;\n",
              "      padding: 0 0 0 0;\n",
              "      width: 32px;\n",
              "    }\n",
              "\n",
              "    .colab-df-convert:hover {\n",
              "      background-color: #E2EBFA;\n",
              "      box-shadow: 0px 1px 2px rgba(60, 64, 67, 0.3), 0px 1px 3px 1px rgba(60, 64, 67, 0.15);\n",
              "      fill: #174EA6;\n",
              "    }\n",
              "\n",
              "    .colab-df-buttons div {\n",
              "      margin-bottom: 4px;\n",
              "    }\n",
              "\n",
              "    [theme=dark] .colab-df-convert {\n",
              "      background-color: #3B4455;\n",
              "      fill: #D2E3FC;\n",
              "    }\n",
              "\n",
              "    [theme=dark] .colab-df-convert:hover {\n",
              "      background-color: #434B5C;\n",
              "      box-shadow: 0px 1px 3px 1px rgba(0, 0, 0, 0.15);\n",
              "      filter: drop-shadow(0px 1px 2px rgba(0, 0, 0, 0.3));\n",
              "      fill: #FFFFFF;\n",
              "    }\n",
              "  </style>\n",
              "\n",
              "    <script>\n",
              "      const buttonEl =\n",
              "        document.querySelector('#df-9435351c-70cc-4843-9dcb-86acf7360ade button.colab-df-convert');\n",
              "      buttonEl.style.display =\n",
              "        google.colab.kernel.accessAllowed ? 'block' : 'none';\n",
              "\n",
              "      async function convertToInteractive(key) {\n",
              "        const element = document.querySelector('#df-9435351c-70cc-4843-9dcb-86acf7360ade');\n",
              "        const dataTable =\n",
              "          await google.colab.kernel.invokeFunction('convertToInteractive',\n",
              "                                                    [key], {});\n",
              "        if (!dataTable) return;\n",
              "\n",
              "        const docLinkHtml = 'Like what you see? Visit the ' +\n",
              "          '<a target=\"_blank\" href=https://colab.research.google.com/notebooks/data_table.ipynb>data table notebook</a>'\n",
              "          + ' to learn more about interactive tables.';\n",
              "        element.innerHTML = '';\n",
              "        dataTable['output_type'] = 'display_data';\n",
              "        await google.colab.output.renderOutput(dataTable, element);\n",
              "        const docLink = document.createElement('div');\n",
              "        docLink.innerHTML = docLinkHtml;\n",
              "        element.appendChild(docLink);\n",
              "      }\n",
              "    </script>\n",
              "  </div>\n",
              "\n",
              "\n",
              "<div id=\"df-2faebaa1-88b5-42be-ad4c-0222bc0f6cdb\">\n",
              "  <button class=\"colab-df-quickchart\" onclick=\"quickchart('df-2faebaa1-88b5-42be-ad4c-0222bc0f6cdb')\"\n",
              "            title=\"Suggest charts\"\n",
              "            style=\"display:none;\">\n",
              "\n",
              "<svg xmlns=\"http://www.w3.org/2000/svg\" height=\"24px\"viewBox=\"0 0 24 24\"\n",
              "     width=\"24px\">\n",
              "    <g>\n",
              "        <path d=\"M19 3H5c-1.1 0-2 .9-2 2v14c0 1.1.9 2 2 2h14c1.1 0 2-.9 2-2V5c0-1.1-.9-2-2-2zM9 17H7v-7h2v7zm4 0h-2V7h2v10zm4 0h-2v-4h2v4z\"/>\n",
              "    </g>\n",
              "</svg>\n",
              "  </button>\n",
              "\n",
              "<style>\n",
              "  .colab-df-quickchart {\n",
              "      --bg-color: #E8F0FE;\n",
              "      --fill-color: #1967D2;\n",
              "      --hover-bg-color: #E2EBFA;\n",
              "      --hover-fill-color: #174EA6;\n",
              "      --disabled-fill-color: #AAA;\n",
              "      --disabled-bg-color: #DDD;\n",
              "  }\n",
              "\n",
              "  [theme=dark] .colab-df-quickchart {\n",
              "      --bg-color: #3B4455;\n",
              "      --fill-color: #D2E3FC;\n",
              "      --hover-bg-color: #434B5C;\n",
              "      --hover-fill-color: #FFFFFF;\n",
              "      --disabled-bg-color: #3B4455;\n",
              "      --disabled-fill-color: #666;\n",
              "  }\n",
              "\n",
              "  .colab-df-quickchart {\n",
              "    background-color: var(--bg-color);\n",
              "    border: none;\n",
              "    border-radius: 50%;\n",
              "    cursor: pointer;\n",
              "    display: none;\n",
              "    fill: var(--fill-color);\n",
              "    height: 32px;\n",
              "    padding: 0;\n",
              "    width: 32px;\n",
              "  }\n",
              "\n",
              "  .colab-df-quickchart:hover {\n",
              "    background-color: var(--hover-bg-color);\n",
              "    box-shadow: 0 1px 2px rgba(60, 64, 67, 0.3), 0 1px 3px 1px rgba(60, 64, 67, 0.15);\n",
              "    fill: var(--button-hover-fill-color);\n",
              "  }\n",
              "\n",
              "  .colab-df-quickchart-complete:disabled,\n",
              "  .colab-df-quickchart-complete:disabled:hover {\n",
              "    background-color: var(--disabled-bg-color);\n",
              "    fill: var(--disabled-fill-color);\n",
              "    box-shadow: none;\n",
              "  }\n",
              "\n",
              "  .colab-df-spinner {\n",
              "    border: 2px solid var(--fill-color);\n",
              "    border-color: transparent;\n",
              "    border-bottom-color: var(--fill-color);\n",
              "    animation:\n",
              "      spin 1s steps(1) infinite;\n",
              "  }\n",
              "\n",
              "  @keyframes spin {\n",
              "    0% {\n",
              "      border-color: transparent;\n",
              "      border-bottom-color: var(--fill-color);\n",
              "      border-left-color: var(--fill-color);\n",
              "    }\n",
              "    20% {\n",
              "      border-color: transparent;\n",
              "      border-left-color: var(--fill-color);\n",
              "      border-top-color: var(--fill-color);\n",
              "    }\n",
              "    30% {\n",
              "      border-color: transparent;\n",
              "      border-left-color: var(--fill-color);\n",
              "      border-top-color: var(--fill-color);\n",
              "      border-right-color: var(--fill-color);\n",
              "    }\n",
              "    40% {\n",
              "      border-color: transparent;\n",
              "      border-right-color: var(--fill-color);\n",
              "      border-top-color: var(--fill-color);\n",
              "    }\n",
              "    60% {\n",
              "      border-color: transparent;\n",
              "      border-right-color: var(--fill-color);\n",
              "    }\n",
              "    80% {\n",
              "      border-color: transparent;\n",
              "      border-right-color: var(--fill-color);\n",
              "      border-bottom-color: var(--fill-color);\n",
              "    }\n",
              "    90% {\n",
              "      border-color: transparent;\n",
              "      border-bottom-color: var(--fill-color);\n",
              "    }\n",
              "  }\n",
              "</style>\n",
              "\n",
              "  <script>\n",
              "    async function quickchart(key) {\n",
              "      const quickchartButtonEl =\n",
              "        document.querySelector('#' + key + ' button');\n",
              "      quickchartButtonEl.disabled = true;  // To prevent multiple clicks.\n",
              "      quickchartButtonEl.classList.add('colab-df-spinner');\n",
              "      try {\n",
              "        const charts = await google.colab.kernel.invokeFunction(\n",
              "            'suggestCharts', [key], {});\n",
              "      } catch (error) {\n",
              "        console.error('Error during call to suggestCharts:', error);\n",
              "      }\n",
              "      quickchartButtonEl.classList.remove('colab-df-spinner');\n",
              "      quickchartButtonEl.classList.add('colab-df-quickchart-complete');\n",
              "    }\n",
              "    (() => {\n",
              "      let quickchartButtonEl =\n",
              "        document.querySelector('#df-2faebaa1-88b5-42be-ad4c-0222bc0f6cdb button');\n",
              "      quickchartButtonEl.style.display =\n",
              "        google.colab.kernel.accessAllowed ? 'block' : 'none';\n",
              "    })();\n",
              "  </script>\n",
              "</div>\n",
              "\n",
              "  <div id=\"id_b6fc7a90-8b10-43eb-8000-55acfbd2c995\">\n",
              "    <style>\n",
              "      .colab-df-generate {\n",
              "        background-color: #E8F0FE;\n",
              "        border: none;\n",
              "        border-radius: 50%;\n",
              "        cursor: pointer;\n",
              "        display: none;\n",
              "        fill: #1967D2;\n",
              "        height: 32px;\n",
              "        padding: 0 0 0 0;\n",
              "        width: 32px;\n",
              "      }\n",
              "\n",
              "      .colab-df-generate:hover {\n",
              "        background-color: #E2EBFA;\n",
              "        box-shadow: 0px 1px 2px rgba(60, 64, 67, 0.3), 0px 1px 3px 1px rgba(60, 64, 67, 0.15);\n",
              "        fill: #174EA6;\n",
              "      }\n",
              "\n",
              "      [theme=dark] .colab-df-generate {\n",
              "        background-color: #3B4455;\n",
              "        fill: #D2E3FC;\n",
              "      }\n",
              "\n",
              "      [theme=dark] .colab-df-generate:hover {\n",
              "        background-color: #434B5C;\n",
              "        box-shadow: 0px 1px 3px 1px rgba(0, 0, 0, 0.15);\n",
              "        filter: drop-shadow(0px 1px 2px rgba(0, 0, 0, 0.3));\n",
              "        fill: #FFFFFF;\n",
              "      }\n",
              "    </style>\n",
              "    <button class=\"colab-df-generate\" onclick=\"generateWithVariable('df')\"\n",
              "            title=\"Generate code using this dataframe.\"\n",
              "            style=\"display:none;\">\n",
              "\n",
              "  <svg xmlns=\"http://www.w3.org/2000/svg\" height=\"24px\"viewBox=\"0 0 24 24\"\n",
              "       width=\"24px\">\n",
              "    <path d=\"M7,19H8.4L18.45,9,17,7.55,7,17.6ZM5,21V16.75L18.45,3.32a2,2,0,0,1,2.83,0l1.4,1.43a1.91,1.91,0,0,1,.58,1.4,1.91,1.91,0,0,1-.58,1.4L9.25,21ZM18.45,9,17,7.55Zm-12,3A5.31,5.31,0,0,0,4.9,8.1,5.31,5.31,0,0,0,1,6.5,5.31,5.31,0,0,0,4.9,4.9,5.31,5.31,0,0,0,6.5,1,5.31,5.31,0,0,0,8.1,4.9,5.31,5.31,0,0,0,12,6.5,5.46,5.46,0,0,0,6.5,12Z\"/>\n",
              "  </svg>\n",
              "    </button>\n",
              "    <script>\n",
              "      (() => {\n",
              "      const buttonEl =\n",
              "        document.querySelector('#id_b6fc7a90-8b10-43eb-8000-55acfbd2c995 button.colab-df-generate');\n",
              "      buttonEl.style.display =\n",
              "        google.colab.kernel.accessAllowed ? 'block' : 'none';\n",
              "\n",
              "      buttonEl.onclick = () => {\n",
              "        google.colab.notebook.generateWithVariable('df');\n",
              "      }\n",
              "      })();\n",
              "    </script>\n",
              "  </div>\n",
              "\n",
              "    </div>\n",
              "  </div>\n"
            ],
            "application/vnd.google.colaboratory.intrinsic+json": {
              "type": "dataframe",
              "variable_name": "df"
            }
          },
          "metadata": {},
          "execution_count": 12
        }
      ]
    },
    {
      "cell_type": "code",
      "source": [
        "df.columns"
      ],
      "metadata": {
        "colab": {
          "base_uri": "https://localhost:8080/"
        },
        "id": "4gTq13KaRpI_",
        "outputId": "2b43c307-dda9-430b-d43a-cd02caf14f82"
      },
      "execution_count": 13,
      "outputs": [
        {
          "output_type": "execute_result",
          "data": {
            "text/plain": [
              "Index(['home_team', 'away_team', 'home_score', 'home_xg', 'home_penalty',\n",
              "       'away_score', 'away_xg', 'away_penalty', 'home_manager', 'home_captain',\n",
              "       'away_manager', 'away_captain', 'Attendance', 'Venue', 'Officials',\n",
              "       'Round', 'Date', 'Score', 'Referee', 'Notes', 'Host', 'Year',\n",
              "       'home_goal', 'away_goal', 'home_goal_long', 'away_goal_long',\n",
              "       'home_own_goal', 'away_own_goal', 'home_penalty_goal',\n",
              "       'away_penalty_goal', 'home_penalty_miss_long', 'away_penalty_miss_long',\n",
              "       'home_penalty_shootout_goal_long', 'away_penalty_shootout_goal_long',\n",
              "       'home_penalty_shootout_miss_long', 'away_penalty_shootout_miss_long',\n",
              "       'home_red_card', 'away_red_card', 'home_yellow_red_card',\n",
              "       'away_yellow_red_card', 'home_yellow_card_long',\n",
              "       'away_yellow_card_long', 'home_substitute_in_long',\n",
              "       'away_substitute_in_long'],\n",
              "      dtype='object')"
            ]
          },
          "metadata": {},
          "execution_count": 13
        }
      ]
    },
    {
      "cell_type": "code",
      "source": [
        "%matplotlib inline"
      ],
      "metadata": {
        "id": "nfA515ZOR1uD"
      },
      "execution_count": 14,
      "outputs": []
    },
    {
      "cell_type": "code",
      "source": [
        "from matplotlib import pyplot as plt"
      ],
      "metadata": {
        "id": "x-rOpdXgR-f1"
      },
      "execution_count": 15,
      "outputs": []
    },
    {
      "cell_type": "code",
      "source": [
        "\n",
        "def AnalyzeFrance():\n",
        "  matchesplayed=df['home_team'].value_counts()['France']\n",
        "  print(f'Total number of matches played by France is {matchesplayed}')"
      ],
      "metadata": {
        "id": "ROj6JWgeSCJV"
      },
      "execution_count": 16,
      "outputs": []
    },
    {
      "cell_type": "code",
      "source": [
        "AnalyzeFrance()"
      ],
      "metadata": {
        "colab": {
          "base_uri": "https://localhost:8080/"
        },
        "id": "6O2gPSSOSYle",
        "outputId": "e2c85f05-4ea0-489c-e40d-26b858f0613f"
      },
      "execution_count": 17,
      "outputs": [
        {
          "output_type": "stream",
          "name": "stdout",
          "text": [
            "Total number of matches played by France is 38\n"
          ]
        }
      ]
    },
    {
      "cell_type": "code",
      "source": [
        "df['home_team'].value_counts()['France']"
      ],
      "metadata": {
        "colab": {
          "base_uri": "https://localhost:8080/"
        },
        "id": "A9Uze6nVSecs",
        "outputId": "d6cb723b-ccba-45cb-c88f-0492ff1ffbba"
      },
      "execution_count": 18,
      "outputs": [
        {
          "output_type": "execute_result",
          "data": {
            "text/plain": [
              "38"
            ]
          },
          "metadata": {},
          "execution_count": 18
        }
      ]
    },
    {
      "cell_type": "code",
      "source": [
        "type(df['home_team'].value_counts())"
      ],
      "metadata": {
        "colab": {
          "base_uri": "https://localhost:8080/",
          "height": 256
        },
        "id": "Dy0EzwnHSiLA",
        "outputId": "9ae3a3e6-6c9e-41cc-ce1e-8b0b4e39e76f"
      },
      "execution_count": 19,
      "outputs": [
        {
          "output_type": "execute_result",
          "data": {
            "text/plain": [
              "pandas.core.series.Series"
            ],
            "text/html": [
              "<div style=\"max-width:800px; border: 1px solid var(--colab-border-color);\"><style>\n",
              "      pre.function-repr-contents {\n",
              "        overflow-x: auto;\n",
              "        padding: 8px 12px;\n",
              "        max-height: 500px;\n",
              "      }\n",
              "\n",
              "      pre.function-repr-contents.function-repr-contents-collapsed {\n",
              "        cursor: pointer;\n",
              "        max-height: 100px;\n",
              "      }\n",
              "    </style>\n",
              "    <pre style=\"white-space: initial; background:\n",
              "         var(--colab-secondary-surface-color); padding: 8px 12px;\n",
              "         border-bottom: 1px solid var(--colab-border-color);\"><b>pandas.core.series.Series</b><br/>def __init__(data=None, index=None, dtype: Dtype | None=None, name=None, copy: bool | None=None, fastpath: bool | lib.NoDefault=lib.no_default) -&gt; None</pre><pre class=\"function-repr-contents function-repr-contents-collapsed\" style=\"\"><a class=\"filepath\" style=\"display:none\" href=\"#\">/usr/local/lib/python3.11/dist-packages/pandas/core/series.py</a>One-dimensional ndarray with axis labels (including time series).\n",
              "\n",
              "Labels need not be unique but must be a hashable type. The object\n",
              "supports both integer- and label-based indexing and provides a host of\n",
              "methods for performing operations involving the index. Statistical\n",
              "methods from ndarray have been overridden to automatically exclude\n",
              "missing data (currently represented as NaN).\n",
              "\n",
              "Operations between Series (+, -, /, \\*, \\*\\*) align values based on their\n",
              "associated index values-- they need not be the same length. The result\n",
              "index will be the sorted union of the two indexes.\n",
              "\n",
              "Parameters\n",
              "----------\n",
              "data : array-like, Iterable, dict, or scalar value\n",
              "    Contains data stored in Series. If data is a dict, argument order is\n",
              "    maintained.\n",
              "index : array-like or Index (1d)\n",
              "    Values must be hashable and have the same length as `data`.\n",
              "    Non-unique index values are allowed. Will default to\n",
              "    RangeIndex (0, 1, 2, ..., n) if not provided. If data is dict-like\n",
              "    and index is None, then the keys in the data are used as the index. If the\n",
              "    index is not None, the resulting Series is reindexed with the index values.\n",
              "dtype : str, numpy.dtype, or ExtensionDtype, optional\n",
              "    Data type for the output Series. If not specified, this will be\n",
              "    inferred from `data`.\n",
              "    See the :ref:`user guide &lt;basics.dtypes&gt;` for more usages.\n",
              "name : Hashable, default None\n",
              "    The name to give to the Series.\n",
              "copy : bool, default False\n",
              "    Copy input data. Only affects Series or 1d ndarray input. See examples.\n",
              "\n",
              "Notes\n",
              "-----\n",
              "Please reference the :ref:`User Guide &lt;basics.series&gt;` for more information.\n",
              "\n",
              "Examples\n",
              "--------\n",
              "Constructing Series from a dictionary with an Index specified\n",
              "\n",
              "&gt;&gt;&gt; d = {&#x27;a&#x27;: 1, &#x27;b&#x27;: 2, &#x27;c&#x27;: 3}\n",
              "&gt;&gt;&gt; ser = pd.Series(data=d, index=[&#x27;a&#x27;, &#x27;b&#x27;, &#x27;c&#x27;])\n",
              "&gt;&gt;&gt; ser\n",
              "a   1\n",
              "b   2\n",
              "c   3\n",
              "dtype: int64\n",
              "\n",
              "The keys of the dictionary match with the Index values, hence the Index\n",
              "values have no effect.\n",
              "\n",
              "&gt;&gt;&gt; d = {&#x27;a&#x27;: 1, &#x27;b&#x27;: 2, &#x27;c&#x27;: 3}\n",
              "&gt;&gt;&gt; ser = pd.Series(data=d, index=[&#x27;x&#x27;, &#x27;y&#x27;, &#x27;z&#x27;])\n",
              "&gt;&gt;&gt; ser\n",
              "x   NaN\n",
              "y   NaN\n",
              "z   NaN\n",
              "dtype: float64\n",
              "\n",
              "Note that the Index is first build with the keys from the dictionary.\n",
              "After this the Series is reindexed with the given Index values, hence we\n",
              "get all NaN as a result.\n",
              "\n",
              "Constructing Series from a list with `copy=False`.\n",
              "\n",
              "&gt;&gt;&gt; r = [1, 2]\n",
              "&gt;&gt;&gt; ser = pd.Series(r, copy=False)\n",
              "&gt;&gt;&gt; ser.iloc[0] = 999\n",
              "&gt;&gt;&gt; r\n",
              "[1, 2]\n",
              "&gt;&gt;&gt; ser\n",
              "0    999\n",
              "1      2\n",
              "dtype: int64\n",
              "\n",
              "Due to input data type the Series has a `copy` of\n",
              "the original data even though `copy=False`, so\n",
              "the data is unchanged.\n",
              "\n",
              "Constructing Series from a 1d ndarray with `copy=False`.\n",
              "\n",
              "&gt;&gt;&gt; r = np.array([1, 2])\n",
              "&gt;&gt;&gt; ser = pd.Series(r, copy=False)\n",
              "&gt;&gt;&gt; ser.iloc[0] = 999\n",
              "&gt;&gt;&gt; r\n",
              "array([999,   2])\n",
              "&gt;&gt;&gt; ser\n",
              "0    999\n",
              "1      2\n",
              "dtype: int64\n",
              "\n",
              "Due to input data type the Series has a `view` on\n",
              "the original data, so\n",
              "the data is changed as well.</pre>\n",
              "      <script>\n",
              "      if (google.colab.kernel.accessAllowed && google.colab.files && google.colab.files.view) {\n",
              "        for (const element of document.querySelectorAll('.filepath')) {\n",
              "          element.style.display = 'block'\n",
              "          element.onclick = (event) => {\n",
              "            event.preventDefault();\n",
              "            event.stopPropagation();\n",
              "            google.colab.files.view(element.textContent, 263);\n",
              "          };\n",
              "        }\n",
              "      }\n",
              "      for (const element of document.querySelectorAll('.function-repr-contents')) {\n",
              "        element.onclick = (event) => {\n",
              "          event.preventDefault();\n",
              "          event.stopPropagation();\n",
              "          element.classList.toggle('function-repr-contents-collapsed');\n",
              "        };\n",
              "      }\n",
              "      </script>\n",
              "      </div>"
            ]
          },
          "metadata": {},
          "execution_count": 19
        }
      ]
    },
    {
      "cell_type": "code",
      "source": [
        "\n",
        "def AnalyzeTowns():\n",
        "   TownData=df['home_team'].value_counts()\n",
        "   for _ in TownData.index:\n",
        "       print(f'Total Number of matches played by{_} is :{ TownData[_]}')"
      ],
      "metadata": {
        "id": "Tf4gblaPSmam"
      },
      "execution_count": 20,
      "outputs": []
    },
    {
      "cell_type": "code",
      "source": [
        "AnalyzeTowns()"
      ],
      "metadata": {
        "colab": {
          "base_uri": "https://localhost:8080/"
        },
        "id": "W9Y20oraSt1l",
        "outputId": "7951ce9c-0c0e-4363-8725-78e848e30e49"
      },
      "execution_count": 21,
      "outputs": [
        {
          "output_type": "stream",
          "name": "stdout",
          "text": [
            "Total Number of matches played byBrazil is :85\n",
            "Total Number of matches played byArgentina is :59\n",
            "Total Number of matches played byItaly is :57\n",
            "Total Number of matches played byEngland is :40\n",
            "Total Number of matches played byGermany is :40\n",
            "Total Number of matches played byFrance is :38\n",
            "Total Number of matches played byWest Germany is :38\n",
            "Total Number of matches played bySpain is :34\n",
            "Total Number of matches played byNetherlands is :33\n",
            "Total Number of matches played byUruguay is :33\n",
            "Total Number of matches played bySweden is :30\n",
            "Total Number of matches played byBelgium is :23\n",
            "Total Number of matches played byPortugal is :21\n",
            "Total Number of matches played byPoland is :20\n",
            "Total Number of matches played bySoviet Union is :18\n",
            "Total Number of matches played byHungary is :18\n",
            "Total Number of matches played byMexico is :18\n",
            "Total Number of matches played byKorea Republic is :18\n",
            "Total Number of matches played bySwitzerland is :16\n",
            "Total Number of matches played byUnited States is :16\n",
            "Total Number of matches played byYugoslavia is :16\n",
            "Total Number of matches played byJapan is :15\n",
            "Total Number of matches played byChile is :14\n",
            "Total Number of matches played byCameroon is :13\n",
            "Total Number of matches played byAustria is :12\n",
            "Total Number of matches played byParaguay is :11\n",
            "Total Number of matches played byNigeria is :11\n",
            "Total Number of matches played byDenmark is :10\n",
            "Total Number of matches played byCzechoslovakia is :10\n",
            "Total Number of matches played byCroatia is :10\n",
            "Total Number of matches played byScotland is :9\n",
            "Total Number of matches played byRomania is :9\n",
            "Total Number of matches played byColombia is :8\n",
            "Total Number of matches played byMorocco is :8\n",
            "Total Number of matches played bySaudi Arabia is :8\n",
            "Total Number of matches played byAustralia is :8\n",
            "Total Number of matches played byCosta Rica is :8\n",
            "Total Number of matches played byTunisia is :7\n",
            "Total Number of matches played byBulgaria is :7\n",
            "Total Number of matches played byPeru is :6\n",
            "Total Number of matches played bySouth Africa is :6\n",
            "Total Number of matches played byRussia is :6\n",
            "Total Number of matches played byAlgeria is :6\n",
            "Total Number of matches played byEcuador is :5\n",
            "Total Number of matches played byIR Iran is :5\n",
            "Total Number of matches played byGhana is :5\n",
            "Total Number of matches played byRepublic of Ireland is :5\n",
            "Total Number of matches played byHonduras is :5\n",
            "Total Number of matches played byNorthern Ireland is :5\n",
            "Total Number of matches played bySerbia is :4\n",
            "Total Number of matches played byGreece is :4\n",
            "Total Number of matches played bySenegal is :4\n",
            "Total Number of matches played byKorea DPR is :3\n",
            "Total Number of matches played byGermany DR is :3\n",
            "Total Number of matches played bySlovenia is :3\n",
            "Total Number of matches played byCôte d'Ivoire is :3\n",
            "Total Number of matches played byWales is :3\n",
            "Total Number of matches played byIraq is :2\n",
            "Total Number of matches played byZaire is :2\n",
            "Total Number of matches played byCuba is :2\n",
            "Total Number of matches played byCanada is :2\n",
            "Total Number of matches played byQatar is :2\n",
            "Total Number of matches played bySlovakia is :2\n",
            "Total Number of matches played byCzech Republic is :2\n",
            "Total Number of matches played byTogo is :2\n",
            "Total Number of matches played byTürkiye is :2\n",
            "Total Number of matches played byChina PR is :1\n",
            "Total Number of matches played byUnited Arab Emirates is :1\n",
            "Total Number of matches played byHaiti is :1\n",
            "Total Number of matches played byPanama is :1\n",
            "Total Number of matches played byIceland is :1\n",
            "Total Number of matches played byEgypt is :1\n",
            "Total Number of matches played byUkraine is :1\n",
            "Total Number of matches played byNew Zealand is :1\n",
            "Total Number of matches played byNorway is :1\n",
            "Total Number of matches played byBolivia is :1\n",
            "Total Number of matches played bySerbia and Montenegro is :1\n",
            "Total Number of matches played byJamaica is :1\n",
            "Total Number of matches played byFR Yugoslavia is :1\n",
            "Total Number of matches played byAngola is :1\n",
            "Total Number of matches played byTrinidad and Tobago is :1\n",
            "Total Number of matches played byBosnia and Herzegovina is :1\n"
          ]
        }
      ]
    },
    {
      "cell_type": "code",
      "source": [
        "%matplotlib inline"
      ],
      "metadata": {
        "id": "WlH6Cq6ASy_b"
      },
      "execution_count": 22,
      "outputs": []
    },
    {
      "cell_type": "code",
      "source": [
        "Town30 = df['home_team'].value_counts().values>30"
      ],
      "metadata": {
        "id": "WKQEzSfwS6IR"
      },
      "execution_count": 23,
      "outputs": []
    },
    {
      "cell_type": "code",
      "source": [
        "Town30"
      ],
      "metadata": {
        "colab": {
          "base_uri": "https://localhost:8080/"
        },
        "id": "ZjCGYouvS9o4",
        "outputId": "25fe950b-3029-4dc8-edfd-8dd898b76bbf"
      },
      "execution_count": 24,
      "outputs": [
        {
          "output_type": "execute_result",
          "data": {
            "text/plain": [
              "array([ True,  True,  True,  True,  True,  True,  True,  True,  True,\n",
              "        True, False, False, False, False, False, False, False, False,\n",
              "       False, False, False, False, False, False, False, False, False,\n",
              "       False, False, False, False, False, False, False, False, False,\n",
              "       False, False, False, False, False, False, False, False, False,\n",
              "       False, False, False, False, False, False, False, False, False,\n",
              "       False, False, False, False, False, False, False, False, False,\n",
              "       False, False, False, False, False, False, False, False, False,\n",
              "       False, False, False, False, False, False, False, False, False,\n",
              "       False])"
            ]
          },
          "metadata": {},
          "execution_count": 24
        }
      ]
    },
    {
      "cell_type": "code",
      "source": [
        "GraphData={}"
      ],
      "metadata": {
        "id": "M3wN1XIJS_pY"
      },
      "execution_count": 25,
      "outputs": []
    },
    {
      "cell_type": "code",
      "source": [
        "\n",
        "town_name=[]\n",
        "matches_played=[]\n",
        "TownData=df['home_team'].value_counts()\n",
        "for _ in TownData.index:\n",
        "    if TownData[_]>30:\n",
        "        town_name.append(_)\n",
        "        matches_played.append(TownData[_])"
      ],
      "metadata": {
        "id": "hwiWzShfTDiM"
      },
      "execution_count": 26,
      "outputs": []
    },
    {
      "cell_type": "code",
      "source": [
        "town_name"
      ],
      "metadata": {
        "colab": {
          "base_uri": "https://localhost:8080/"
        },
        "id": "6ga5l52ETMVm",
        "outputId": "d05bdb6b-4ba0-4f4e-9459-de3be413e948"
      },
      "execution_count": 27,
      "outputs": [
        {
          "output_type": "execute_result",
          "data": {
            "text/plain": [
              "['Brazil',\n",
              " 'Argentina',\n",
              " 'Italy',\n",
              " 'England',\n",
              " 'Germany',\n",
              " 'France',\n",
              " 'West Germany',\n",
              " 'Spain',\n",
              " 'Netherlands',\n",
              " 'Uruguay']"
            ]
          },
          "metadata": {},
          "execution_count": 27
        }
      ]
    },
    {
      "cell_type": "code",
      "source": [
        "from matplotlib import pyplot as plt"
      ],
      "metadata": {
        "id": "X0kXtGIlTPw-"
      },
      "execution_count": 28,
      "outputs": []
    },
    {
      "cell_type": "code",
      "source": [
        "plt.plot(matches_played,town_name)\n",
        "plt.ylabel('town_name')\n",
        "plt.xlabel('Matches_played ')\n",
        "plt.title('Matches played by Towns')"
      ],
      "metadata": {
        "colab": {
          "base_uri": "https://localhost:8080/",
          "height": 280
        },
        "id": "1y768jgTTRH5",
        "outputId": "74e1d1e8-fe94-42c9-c9eb-849252c400db"
      },
      "execution_count": 29,
      "outputs": [
        {
          "output_type": "execute_result",
          "data": {
            "text/plain": [
              "Text(0.5, 1.0, 'Matches played by Towns')"
            ]
          },
          "metadata": {},
          "execution_count": 29
        },
        {
          "output_type": "display_data",
          "data": {
            "text/plain": [
              "<Figure size 640x480 with 1 Axes>"
            ],
            "image/png": "[encoded data removed]"
          },
          "metadata": {}
        }
      ]
    },
    {
      "cell_type": "code",
      "source": [
        "df['home_team'].value_counts()"
      ],
      "metadata": {
        "colab": {
          "base_uri": "https://localhost:8080/",
          "height": 489
        },
        "id": "lKPOvF8iTU56",
        "outputId": "23bfb71d-5a43-45ec-ea83-cddf37a1ec2f"
      },
      "execution_count": 30,
      "outputs": [
        {
          "output_type": "execute_result",
          "data": {
            "text/plain": [
              "home_team\n",
              "Brazil                    85\n",
              "Argentina                 59\n",
              "Italy                     57\n",
              "England                   40\n",
              "Germany                   40\n",
              "                          ..\n",
              "Jamaica                    1\n",
              "FR Yugoslavia              1\n",
              "Angola                     1\n",
              "Trinidad and Tobago        1\n",
              "Bosnia and Herzegovina     1\n",
              "Name: count, Length: 82, dtype: int64"
            ],
            "text/html": [
              "<div>\n",
              "<style scoped>\n",
              "    .dataframe tbody tr th:only-of-type {\n",
              "        vertical-align: middle;\n",
              "    }\n",
              "\n",
              "    .dataframe tbody tr th {\n",
              "        vertical-align: top;\n",
              "    }\n",
              "\n",
              "    .dataframe thead th {\n",
              "        text-align: right;\n",
              "    }\n",
              "</style>\n",
              "<table border=\"1\" class=\"dataframe\">\n",
              "  <thead>\n",
              "    <tr style=\"text-align: right;\">\n",
              "      <th></th>\n",
              "      <th>count</th>\n",
              "    </tr>\n",
              "    <tr>\n",
              "      <th>home_team</th>\n",
              "      <th></th>\n",
              "    </tr>\n",
              "  </thead>\n",
              "  <tbody>\n",
              "    <tr>\n",
              "      <th>Brazil</th>\n",
              "      <td>85</td>\n",
              "    </tr>\n",
              "    <tr>\n",
              "      <th>Argentina</th>\n",
              "      <td>59</td>\n",
              "    </tr>\n",
              "    <tr>\n",
              "      <th>Italy</th>\n",
              "      <td>57</td>\n",
              "    </tr>\n",
              "    <tr>\n",
              "      <th>England</th>\n",
              "      <td>40</td>\n",
              "    </tr>\n",
              "    <tr>\n",
              "      <th>Germany</th>\n",
              "      <td>40</td>\n",
              "    </tr>\n",
              "    <tr>\n",
              "      <th>...</th>\n",
              "      <td>...</td>\n",
              "    </tr>\n",
              "    <tr>\n",
              "      <th>Jamaica</th>\n",
              "      <td>1</td>\n",
              "    </tr>\n",
              "    <tr>\n",
              "      <th>FR Yugoslavia</th>\n",
              "      <td>1</td>\n",
              "    </tr>\n",
              "    <tr>\n",
              "      <th>Angola</th>\n",
              "      <td>1</td>\n",
              "    </tr>\n",
              "    <tr>\n",
              "      <th>Trinidad and Tobago</th>\n",
              "      <td>1</td>\n",
              "    </tr>\n",
              "    <tr>\n",
              "      <th>Bosnia and Herzegovina</th>\n",
              "      <td>1</td>\n",
              "    </tr>\n",
              "  </tbody>\n",
              "</table>\n",
              "<p>82 rows × 1 columns</p>\n",
              "</div><br><label><b>dtype:</b> int64</label>"
            ]
          },
          "metadata": {},
          "execution_count": 30
        }
      ]
    },
    {
      "cell_type": "code",
      "source": [
        "teamsAbove30=df['home_team'].value_counts()>30"
      ],
      "metadata": {
        "id": "A-g0W2uZTZYB"
      },
      "execution_count": 31,
      "outputs": []
    },
    {
      "cell_type": "code",
      "source": [
        "teamsAbove30"
      ],
      "metadata": {
        "colab": {
          "base_uri": "https://localhost:8080/",
          "height": 489
        },
        "id": "0tR76PyKThN9",
        "outputId": "1dd081f5-d6ee-4831-a528-5d929b9d0c72"
      },
      "execution_count": 32,
      "outputs": [
        {
          "output_type": "execute_result",
          "data": {
            "text/plain": [
              "home_team\n",
              "Brazil                     True\n",
              "Argentina                  True\n",
              "Italy                      True\n",
              "England                    True\n",
              "Germany                    True\n",
              "                          ...  \n",
              "Jamaica                   False\n",
              "FR Yugoslavia             False\n",
              "Angola                    False\n",
              "Trinidad and Tobago       False\n",
              "Bosnia and Herzegovina    False\n",
              "Name: count, Length: 82, dtype: bool"
            ],
            "text/html": [
              "<div>\n",
              "<style scoped>\n",
              "    .dataframe tbody tr th:only-of-type {\n",
              "        vertical-align: middle;\n",
              "    }\n",
              "\n",
              "    .dataframe tbody tr th {\n",
              "        vertical-align: top;\n",
              "    }\n",
              "\n",
              "    .dataframe thead th {\n",
              "        text-align: right;\n",
              "    }\n",
              "</style>\n",
              "<table border=\"1\" class=\"dataframe\">\n",
              "  <thead>\n",
              "    <tr style=\"text-align: right;\">\n",
              "      <th></th>\n",
              "      <th>count</th>\n",
              "    </tr>\n",
              "    <tr>\n",
              "      <th>home_team</th>\n",
              "      <th></th>\n",
              "    </tr>\n",
              "  </thead>\n",
              "  <tbody>\n",
              "    <tr>\n",
              "      <th>Brazil</th>\n",
              "      <td>True</td>\n",
              "    </tr>\n",
              "    <tr>\n",
              "      <th>Argentina</th>\n",
              "      <td>True</td>\n",
              "    </tr>\n",
              "    <tr>\n",
              "      <th>Italy</th>\n",
              "      <td>True</td>\n",
              "    </tr>\n",
              "    <tr>\n",
              "      <th>England</th>\n",
              "      <td>True</td>\n",
              "    </tr>\n",
              "    <tr>\n",
              "      <th>Germany</th>\n",
              "      <td>True</td>\n",
              "    </tr>\n",
              "    <tr>\n",
              "      <th>...</th>\n",
              "      <td>...</td>\n",
              "    </tr>\n",
              "    <tr>\n",
              "      <th>Jamaica</th>\n",
              "      <td>False</td>\n",
              "    </tr>\n",
              "    <tr>\n",
              "      <th>FR Yugoslavia</th>\n",
              "      <td>False</td>\n",
              "    </tr>\n",
              "    <tr>\n",
              "      <th>Angola</th>\n",
              "      <td>False</td>\n",
              "    </tr>\n",
              "    <tr>\n",
              "      <th>Trinidad and Tobago</th>\n",
              "      <td>False</td>\n",
              "    </tr>\n",
              "    <tr>\n",
              "      <th>Bosnia and Herzegovina</th>\n",
              "      <td>False</td>\n",
              "    </tr>\n",
              "  </tbody>\n",
              "</table>\n",
              "<p>82 rows × 1 columns</p>\n",
              "</div><br><label><b>dtype:</b> bool</label>"
            ]
          },
          "metadata": {},
          "execution_count": 32
        }
      ]
    },
    {
      "cell_type": "code",
      "source": [
        "Above30=df['home_team'].value_counts()"
      ],
      "metadata": {
        "id": "MElVe2UNTqJR"
      },
      "execution_count": 34,
      "outputs": []
    },
    {
      "cell_type": "code",
      "source": [
        "filterData=Above30[Above30>30]"
      ],
      "metadata": {
        "id": "63qnMzHWT6FD"
      },
      "execution_count": 35,
      "outputs": []
    },
    {
      "cell_type": "code",
      "source": [
        "filterData"
      ],
      "metadata": {
        "colab": {
          "base_uri": "https://localhost:8080/",
          "height": 429
        },
        "id": "WEftsHKfUAgf",
        "outputId": "d4b1c1d4-141c-4321-909e-24d7af7bbaf3"
      },
      "execution_count": 36,
      "outputs": [
        {
          "output_type": "execute_result",
          "data": {
            "text/plain": [
              "home_team\n",
              "Brazil          85\n",
              "Argentina       59\n",
              "Italy           57\n",
              "England         40\n",
              "Germany         40\n",
              "France          38\n",
              "West Germany    38\n",
              "Spain           34\n",
              "Netherlands     33\n",
              "Uruguay         33\n",
              "Name: count, dtype: int64"
            ],
            "text/html": [
              "<div>\n",
              "<style scoped>\n",
              "    .dataframe tbody tr th:only-of-type {\n",
              "        vertical-align: middle;\n",
              "    }\n",
              "\n",
              "    .dataframe tbody tr th {\n",
              "        vertical-align: top;\n",
              "    }\n",
              "\n",
              "    .dataframe thead th {\n",
              "        text-align: right;\n",
              "    }\n",
              "</style>\n",
              "<table border=\"1\" class=\"dataframe\">\n",
              "  <thead>\n",
              "    <tr style=\"text-align: right;\">\n",
              "      <th></th>\n",
              "      <th>count</th>\n",
              "    </tr>\n",
              "    <tr>\n",
              "      <th>home_team</th>\n",
              "      <th></th>\n",
              "    </tr>\n",
              "  </thead>\n",
              "  <tbody>\n",
              "    <tr>\n",
              "      <th>Brazil</th>\n",
              "      <td>85</td>\n",
              "    </tr>\n",
              "    <tr>\n",
              "      <th>Argentina</th>\n",
              "      <td>59</td>\n",
              "    </tr>\n",
              "    <tr>\n",
              "      <th>Italy</th>\n",
              "      <td>57</td>\n",
              "    </tr>\n",
              "    <tr>\n",
              "      <th>England</th>\n",
              "      <td>40</td>\n",
              "    </tr>\n",
              "    <tr>\n",
              "      <th>Germany</th>\n",
              "      <td>40</td>\n",
              "    </tr>\n",
              "    <tr>\n",
              "      <th>France</th>\n",
              "      <td>38</td>\n",
              "    </tr>\n",
              "    <tr>\n",
              "      <th>West Germany</th>\n",
              "      <td>38</td>\n",
              "    </tr>\n",
              "    <tr>\n",
              "      <th>Spain</th>\n",
              "      <td>34</td>\n",
              "    </tr>\n",
              "    <tr>\n",
              "      <th>Netherlands</th>\n",
              "      <td>33</td>\n",
              "    </tr>\n",
              "    <tr>\n",
              "      <th>Uruguay</th>\n",
              "      <td>33</td>\n",
              "    </tr>\n",
              "  </tbody>\n",
              "</table>\n",
              "</div><br><label><b>dtype:</b> int64</label>"
            ]
          },
          "metadata": {},
          "execution_count": 36
        }
      ]
    },
    {
      "cell_type": "code",
      "source": [
        "filterData.plot(kind='bar')"
      ],
      "metadata": {
        "colab": {
          "base_uri": "https://localhost:8080/",
          "height": 370
        },
        "id": "voTjPcmTTiey",
        "outputId": "7a0337b7-afa8-4f71-e520-39560631e83d"
      },
      "execution_count": 37,
      "outputs": [
        {
          "output_type": "execute_result",
          "data": {
            "text/plain": [
              "<Axes: xlabel='home_team'>"
            ]
          },
          "metadata": {},
          "execution_count": 37
        },
        {
          "output_type": "display_data",
          "data": {
            "text/plain": [
              "<Figure size 640x480 with 1 Axes>"
            ],
            "image/png": "[encoded data removed]"
          },
          "metadata": {}
        }
      ]
    },
    {
      "cell_type": "code",
      "source": [
        "filterData.plot(kind='barh')"
      ],
      "metadata": {
        "colab": {
          "base_uri": "https://localhost:8080/",
          "height": 257
        },
        "id": "6uWs9Ja8UJUn",
        "outputId": "6b8792b2-b0c9-44e9-ea5b-b7226ef54525"
      },
      "execution_count": 38,
      "outputs": [
        {
          "output_type": "execute_result",
          "data": {
            "text/plain": [
              "<Axes: ylabel='home_team'>"
            ]
          },
          "metadata": {},
          "execution_count": 38
        },
        {
          "output_type": "display_data",
          "data": {
            "text/plain": [
              "<Figure size 640x480 with 1 Axes>"
            ],
            "image/png": "[encoded data removed]"
          },
          "metadata": {}
        }
      ]
    },
    {
      "cell_type": "code",
      "source": [
        "filterData.plot(kind='pie')"
      ],
      "metadata": {
        "colab": {
          "base_uri": "https://localhost:8080/",
          "height": 333
        },
        "id": "E6kQW3b1ULiU",
        "outputId": "d6ed1438-a6f6-4e0e-8dba-eb973238d004"
      },
      "execution_count": 39,
      "outputs": [
        {
          "output_type": "execute_result",
          "data": {
            "text/plain": [
              "<Axes: ylabel='count'>"
            ]
          },
          "metadata": {},
          "execution_count": 39
        },
        {
          "output_type": "display_data",
          "data": {
            "text/plain": [
              "<Figure size 640x480 with 1 Axes>"
            ],
            "image/png": "[encoded data removed]"
          },
          "metadata": {}
        }
      ]
    },
    {
      "cell_type": "code",
      "source": [
        "\n",
        "def MatchesPlayedByTown():\n",
        "    town_name=[]\n",
        "    matches_played=[]\n",
        "    TownData=df['home_team'].value_counts()\n",
        "    for _ in TownData.index:\n",
        "        if TownData[_]>30:\n",
        "            town_name.append(_)\n",
        "            matches_played.append(TownData[_])\n",
        "    plt.plot(matches_played,town_name)\n",
        "    plt.ylabel('town_name')\n",
        "    plt.xlabel('Matches_played ')\n",
        "    plt.title('Matches played by Towns')\n",
        "TownData=df['home_team'].value_counts()"
      ],
      "metadata": {
        "id": "5dx2epKtUSEx"
      },
      "execution_count": 40,
      "outputs": []
    },
    {
      "cell_type": "code",
      "source": [
        "MatchesPlayedByTown()"
      ],
      "metadata": {
        "colab": {
          "base_uri": "https://localhost:8080/",
          "height": 263
        },
        "id": "zP-H8Ob5UVto",
        "outputId": "ee858173-a1ec-49a5-cf5e-b7069f8b5a87"
      },
      "execution_count": 41,
      "outputs": [
        {
          "output_type": "display_data",
          "data": {
            "text/plain": [
              "<Figure size 640x480 with 1 Axes>"
            ],
            "image/png": "[encoded data removed]"
          },
          "metadata": {}
        }
      ]
    },
    {
      "cell_type": "code",
      "source": [
        "def MatchesPlayedByTown ():\n",
        "    df['home_team'].value_counts()\n",
        "filterData=Above30[Above30>30]\n",
        "filterData.plot(kind='barh')"
      ],
      "metadata": {
        "colab": {
          "base_uri": "https://localhost:8080/",
          "height": 257
        },
        "id": "iuUqkW0_UZMk",
        "outputId": "c9f03f77-6a49-4d44-e862-3cec7d7082e1"
      },
      "execution_count": 42,
      "outputs": [
        {
          "output_type": "execute_result",
          "data": {
            "text/plain": [
              "<Axes: ylabel='home_team'>"
            ]
          },
          "metadata": {},
          "execution_count": 42
        },
        {
          "output_type": "display_data",
          "data": {
            "text/plain": [
              "<Figure size 640x480 with 1 Axes>"
            ],
            "image/png": "[encoded data removed]"
          },
          "metadata": {}
        }
      ]
    }
  ]
}