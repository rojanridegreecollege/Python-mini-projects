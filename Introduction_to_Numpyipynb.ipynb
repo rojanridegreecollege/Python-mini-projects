{
  "nbformat": 4,
  "nbformat_minor": 0,
  "metadata": {
    "colab": {
      "provenance": [],
      "authorship_tag": "ABX9TyPTKJ47dg+iV0LsUBYMiFKc",
      "include_colab_link": true
    },
    "kernelspec": {
      "name": "python3",
      "display_name": "Python 3"
    },
    "language_info": {
      "name": "python"
    }
  },
  "cells": [
    {
      "cell_type": "markdown",
      "metadata": {
        "id": "view-in-github",
        "colab_type": "text"
      },
      "source": [
        "<a href=\"https://colab.research.google.com/github/rojanridegreecollege/Python-mini-projects/blob/main/Introduction_to_Numpyipynb.ipynb\" target=\"_parent\"><img src=\"https://colab.research.google.com/assets/colab-badge.svg\" alt=\"Open In Colab\"/></a>"
      ]
    },
    {
      "cell_type": "code",
      "source": [
        "#Nump-Numatic python\n",
        "#Most powerful package-Libarary\n",
        "\n",
        "#Numpy-Dimensions\n",
        "\n",
        "#A- One Dimensional Array\n",
        "#[A,B]|| [A\n",
        "#.        B]-Two Dimensional Array-Row||colum\n",
        "# Three Dimensional\n",
        "#Array- Storing,Manipulating,similar Data type\n",
        "#Faster than any mathematical functions\n",
        "#convinient compared to other packages\n",
        "#Memory efficiency\n",
        "#support multi dimensional arras\n",
        "\n",
        "#speed(Numpy operations)>speed(Lists operations)\n",
        "#size(Numpy operations)<size(Lists operations)"
      ],
      "metadata": {
        "id": "wPDCgoUb2hf2"
      },
      "execution_count": 1,
      "outputs": []
    },
    {
      "cell_type": "code",
      "source": [
        "# install Numpy_pip3 install Numpy//pip install numpy"
      ],
      "metadata": {
        "id": "6kKshITO7jco"
      },
      "execution_count": 2,
      "outputs": []
    },
    {
      "cell_type": "code",
      "source": [
        "import  numpy as np"
      ],
      "metadata": {
        "id": "cCR4rrpq726L"
      },
      "execution_count": 57,
      "outputs": []
    },
    {
      "cell_type": "code",
      "source": [
        "#create a numpy array\n",
        "#1D array\n",
        "\n",
        "arr1D=np.array([1,2,3,4,5,])\n",
        "print(arr1D)"
      ],
      "metadata": {
        "colab": {
          "base_uri": "https://localhost:8080/"
        },
        "id": "53-tLtwN8LlD",
        "outputId": "fe9d7957-f0f8-4d66-d429-94c37f945269"
      },
      "execution_count": 58,
      "outputs": [
        {
          "output_type": "stream",
          "name": "stdout",
          "text": [
            "[1 2 3 4 5]\n"
          ]
        }
      ]
    },
    {
      "cell_type": "code",
      "source": [
        "#creting 2D array _Matrix\n",
        "arr2D=np.array([\n",
        "               [1,2,3],[4,5,6]\n",
        "          ])"
      ],
      "metadata": {
        "id": "v1JPiepJ--1e"
      },
      "execution_count": null,
      "outputs": []
    },
    {
      "cell_type": "code",
      "source": [
        "print(arr2D)"
      ],
      "metadata": {
        "colab": {
          "base_uri": "https://localhost:8080/"
        },
        "id": "c5IZ6Zo6Af47",
        "outputId": "7249245c-6a9f-4bec-e5b1-b18b1ffdbd06"
      },
      "execution_count": null,
      "outputs": [
        {
          "output_type": "stream",
          "name": "stdout",
          "text": [
            "[[1 2 3]\n",
            " [4 5 6]]\n"
          ]
        }
      ]
    },
    {
      "cell_type": "code",
      "source": [
        "#creating arrays with default values\n",
        "allzeros=np.zeros((2,3))"
      ],
      "metadata": {
        "id": "_Ov2Gx37AmRT"
      },
      "execution_count": 5,
      "outputs": []
    },
    {
      "cell_type": "code",
      "source": [
        "print(allzeros)"
      ],
      "metadata": {
        "colab": {
          "base_uri": "https://localhost:8080/"
        },
        "id": "lb7ilWFVBqMA",
        "outputId": "2c0399b7-3558-49d1-ef67-5938469cc014"
      },
      "execution_count": 59,
      "outputs": [
        {
          "output_type": "stream",
          "name": "stdout",
          "text": [
            "[[0. 0. 0.]\n",
            " [0. 0. 0.]]\n"
          ]
        }
      ]
    },
    {
      "cell_type": "code",
      "source": [
        "#creating  matrix with all values of elementsas'1'\n",
        "allones=np.ones((2,3))"
      ],
      "metadata": {
        "id": "Ave45mpSBwTq"
      },
      "execution_count": 60,
      "outputs": []
    },
    {
      "cell_type": "code",
      "source": [
        "print(allones)"
      ],
      "metadata": {
        "colab": {
          "base_uri": "https://localhost:8080/"
        },
        "id": "84wVBEjqCL1G",
        "outputId": "4752aa89-d24e-4009-b8e4-51c650c52d23"
      },
      "execution_count": 62,
      "outputs": [
        {
          "output_type": "stream",
          "name": "stdout",
          "text": [
            "[[1. 1. 1.]\n",
            " [1. 1. 1.]]\n"
          ]
        }
      ]
    },
    {
      "cell_type": "code",
      "source": [
        "#creating matrix  with  all values of elements'constant value_n~full value'\n",
        "allconstant=np.full((2,3),6)\n",
        "print(allconstant)"
      ],
      "metadata": {
        "colab": {
          "base_uri": "https://localhost:8080/"
        },
        "id": "Yg_fE_XyCSbK",
        "outputId": "6614d774-c444-4587-89dc-66ec8ab07203"
      },
      "execution_count": 63,
      "outputs": [
        {
          "output_type": "stream",
          "name": "stdout",
          "text": [
            "[[6 6 6]\n",
            " [6 6 6]]\n"
          ]
        }
      ]
    },
    {
      "cell_type": "code",
      "source": [
        "#create  an identity matrix_I_Square  Matrix\n",
        "identity =np.eye(4)\n",
        "print(identity)\n",
        "#Identity Matrix_ Aiti= 1&&Aij=0\n",
        "#For all A Belongs to RMxN"
      ],
      "metadata": {
        "colab": {
          "base_uri": "https://localhost:8080/"
        },
        "id": "C8hAGbJ5EzpB",
        "outputId": "fa804fac-67ce-4a71-bd7f-8a82853e631d"
      },
      "execution_count": null,
      "outputs": [
        {
          "output_type": "stream",
          "name": "stdout",
          "text": [
            "[[1. 0. 0. 0.]\n",
            " [0. 1. 0. 0.]\n",
            " [0. 0. 1. 0.]\n",
            " [0. 0. 0. 1.]]\n"
          ]
        }
      ]
    },
    {
      "cell_type": "code",
      "source": [
        "#creating  random Matrices\n",
        "\n",
        "#between 0 and 1\n",
        "ran1=np.random.rand(3,3)"
      ],
      "metadata": {
        "id": "Y5yF1PFOFzWa"
      },
      "execution_count": null,
      "outputs": []
    },
    {
      "cell_type": "code",
      "source": [
        "#between a and"
      ],
      "metadata": {
        "id": "0swcCV3XGVb8"
      },
      "execution_count": null,
      "outputs": []
    },
    {
      "cell_type": "code",
      "source": [
        "print(3,3)"
      ],
      "metadata": {
        "colab": {
          "base_uri": "https://localhost:8080/"
        },
        "id": "TjHq_f2fGOEn",
        "outputId": "16cc7cc5-bb43-4654-f978-7687dca3477c"
      },
      "execution_count": 10,
      "outputs": [
        {
          "output_type": "stream",
          "name": "stdout",
          "text": [
            "3 3\n"
          ]
        }
      ]
    },
    {
      "cell_type": "code",
      "source": [
        "#between a and b\n",
        "rand2=np.random.randint(10,20,(3,3))"
      ],
      "metadata": {
        "id": "I506m9xuGf7b"
      },
      "execution_count": 11,
      "outputs": []
    },
    {
      "cell_type": "code",
      "source": [
        "print(rand2)"
      ],
      "metadata": {
        "colab": {
          "base_uri": "https://localhost:8080/"
        },
        "id": "W0ZxnmrzG22Z",
        "outputId": "73ae0923-5f6c-4c7a-df16-3d93543264f1"
      },
      "execution_count": 64,
      "outputs": [
        {
          "output_type": "stream",
          "name": "stdout",
          "text": [
            "[[16 11 12]\n",
            " [18 18 11]\n",
            " [18 12 11]]\n"
          ]
        }
      ]
    },
    {
      "cell_type": "code",
      "source": [
        "#Array properties\n",
        "arr=np.array([[1,2,3,4],[2,3,4,5]])\n",
        "print(arr)"
      ],
      "metadata": {
        "colab": {
          "base_uri": "https://localhost:8080/"
        },
        "id": "FcXIgluYHhAF",
        "outputId": "a94d46fb-3b88-4b67-c2ff-663b5fb7bae8"
      },
      "execution_count": 65,
      "outputs": [
        {
          "output_type": "stream",
          "name": "stdout",
          "text": [
            "[[1 2 3 4]\n",
            " [2 3 4 5]]\n"
          ]
        }
      ]
    },
    {
      "cell_type": "code",
      "source": [
        "#Shape of array\n",
        "print(f\"\\n The shape of the array is {arr.shape}\")\n",
        "#Size of array\n",
        "print (f'The size of the array is {arr.size}')\n",
        "#Data type of array\n",
        "print(f'The Data type of the array is {arr.dtype}')\n",
        "#Dimensions of array\n",
        "print(f'The Dimensions of the array is {arr.ndim}')\n",
        "#Data type of array\n",
        "print(f'The Data type of the array is {arr.dtype}')\n",
        "#Dimensions of array\n",
        "print(f'The Dimensions of the array is {arr.ndim}')\n",
        "#Data type of array\n",
        "print(f'The Data type of the array is {arr.dtype}')\n",
        "#Dimensions of array\n",
        "print(f'The Dimensions of the array is {arr.ndim}')\n",
        "#Data type of array\n",
        "print(f'The Data type of the array is {arr.dtype}')\n",
        "#Dimensions of array\n",
        "print(f'The Dimensions of the array is {arr.ndim}')"
      ],
      "metadata": {
        "id": "hr9EI4CgH7Ch",
        "colab": {
          "base_uri": "https://localhost:8080/"
        },
        "outputId": "a41cd672-15bc-4d36-a4b3-1975f62a3798"
      },
      "execution_count": null,
      "outputs": [
        {
          "output_type": "stream",
          "name": "stdout",
          "text": [
            "\n",
            " The shape of the array is (2, 4)\n",
            "The size of the array is 8\n",
            "The Data type of the array is int64\n",
            "The Dimensions of the array is 2\n",
            "The Data type of the array is int64\n",
            "The Dimensions of the array is 2\n",
            "The Data type of the array is int64\n",
            "The Dimensions of the array is 2\n",
            "The Data type of the array is int64\n",
            "The Dimensions of the array is 2\n"
          ]
        }
      ]
    },
    {
      "cell_type": "code",
      "source": [
        "#Indexing and slicing\n",
        "#Access the elements in 1D Array\n",
        "arr=np.array([1,2,3,4])\n",
        "print(arr)\n",
        "print(arr[3])"
      ],
      "metadata": {
        "colab": {
          "base_uri": "https://localhost:8080/"
        },
        "id": "Owadn-EG7CLA",
        "outputId": "5a0d8002-f8cc-443d-a3bc-124764858822"
      },
      "execution_count": null,
      "outputs": [
        {
          "output_type": "stream",
          "name": "stdout",
          "text": [
            "[1 2 3 4]\n",
            "4\n"
          ]
        }
      ]
    },
    {
      "cell_type": "code",
      "source": [
        "#Slicing the elements\n",
        "print (arr[0:3])\n",
        "#Acess the element in 2D Array\n",
        "arr2=np.array([[1,2,3],[2,3,4]])\n",
        "print(arr2)\n",
        "print(arr2[1,1])\n",
        "print(arr2[0,:])#first row  with all columns\n",
        "print(arr2[:,0])#firdt column  with  all rows"
      ],
      "metadata": {
        "colab": {
          "base_uri": "https://localhost:8080/"
        },
        "id": "_SpCUWDM7rHd",
        "outputId": "886a7328-a228-4f19-cbba-9e03d05bf5c0"
      },
      "execution_count": null,
      "outputs": [
        {
          "output_type": "stream",
          "name": "stdout",
          "text": [
            "[1 2 3]\n",
            "[[1 2 3]\n",
            " [2 3 4]]\n",
            "3\n",
            "[1 2 3]\n",
            "[1 2]\n"
          ]
        }
      ]
    },
    {
      "cell_type": "code",
      "source": [
        "L1=[]\n",
        "[L1.append(_) for _ in range(10)]\n",
        "\n",
        "L1=[]\n",
        "[L1.append(_) for _ in range(10)]\n",
        "\n",
        "import numpy as np\n",
        "L1=np.arange(0,10)\n",
        "print(L1)"
      ],
      "metadata": {
        "colab": {
          "base_uri": "https://localhost:8080/"
        },
        "id": "AVly33rV9RLA",
        "outputId": "2ead1671-4f44-460c-ac7d-ce95271b1811"
      },
      "execution_count": null,
      "outputs": [
        {
          "output_type": "stream",
          "name": "stdout",
          "text": [
            "[0 1 2 3 4 5 6 7 8 9]\n"
          ]
        }
      ]
    },
    {
      "cell_type": "code",
      "source": [
        "# Mathematical operations\n",
        "a=np.array([1,2,3])\n",
        "b=np.array([3,4,5])\n",
        "print(f'The sum of a and b is {a+b}')\n",
        "print(f'The diff of a and b is {a-b}')\n",
        "print (f'The product of a and b is{a*b}')\n",
        "print(f'The division of a and b is{a/b}')"
      ],
      "metadata": {
        "colab": {
          "base_uri": "https://localhost:8080/"
        },
        "id": "P2R1LQfu-CGg",
        "outputId": "8687fc66-8ebd-4a11-ec05-0a9c3e0ec381"
      },
      "execution_count": null,
      "outputs": [
        {
          "output_type": "stream",
          "name": "stdout",
          "text": [
            "The sum of a and b is [4 6 8]\n",
            "The diff of a and b is [-2 -2 -2]\n",
            "The product of a and b is[ 3  8 15]\n",
            "The division of a and b is[0.33333333 0.5        0.6       ]\n"
          ]
        }
      ]
    },
    {
      "cell_type": "code",
      "source": [
        "#Matrix Multiplication\n",
        "b1=np.array([[2,3,0],[2,3,4]])\n",
        "b2=np.array([[5,6],[7,8],[1,3]])\n",
        "#Dot.product\n",
        "C=np.dot(b1,b2)\n",
        "print(C)"
      ],
      "metadata": {
        "colab": {
          "base_uri": "https://localhost:8080/"
        },
        "id": "n76AjvDmAGNL",
        "outputId": "71a14181-e58b-40b5-c091-f3a343e6083f"
      },
      "execution_count": 24,
      "outputs": [
        {
          "output_type": "stream",
          "name": "stdout",
          "text": [
            "[[31 36]\n",
            " [35 48]]\n"
          ]
        }
      ]
    },
    {
      "cell_type": "code",
      "source": [
        "print(b1)"
      ],
      "metadata": {
        "colab": {
          "base_uri": "https://localhost:8080/"
        },
        "id": "U7tny0vgCXoV",
        "outputId": "78434a60-43c4-4e33-d8bf-a3000f2377e7"
      },
      "execution_count": 25,
      "outputs": [
        {
          "output_type": "stream",
          "name": "stdout",
          "text": [
            "[[2 3 0]\n",
            " [2 3 4]]\n"
          ]
        }
      ]
    },
    {
      "cell_type": "code",
      "source": [
        "print(b2)"
      ],
      "metadata": {
        "colab": {
          "base_uri": "https://localhost:8080/"
        },
        "id": "ELoTu9vmNo2T",
        "outputId": "d6e86282-162c-4630-80be-27f1cbf3c54b"
      },
      "execution_count": 26,
      "outputs": [
        {
          "output_type": "stream",
          "name": "stdout",
          "text": [
            "[[5 6]\n",
            " [7 8]\n",
            " [1 3]]\n"
          ]
        }
      ]
    },
    {
      "cell_type": "code",
      "source": [],
      "metadata": {
        "id": "5TMVPrR-Cd_h"
      },
      "execution_count": null,
      "outputs": []
    },
    {
      "cell_type": "code",
      "source": [
        "[\n",
        "  [22,31],\n",
        "  [35,48]\n",
        "]"
      ],
      "metadata": {
        "colab": {
          "base_uri": "https://localhost:8080/"
        },
        "id": "o8mj1XuSCrwQ",
        "outputId": "d7813d2f-41d8-4c64-b30e-62666dea9e83"
      },
      "execution_count": 27,
      "outputs": [
        {
          "output_type": "execute_result",
          "data": {
            "text/plain": [
              "[[22, 31], [35, 48]]"
            ]
          },
          "metadata": {},
          "execution_count": 27
        }
      ]
    },
    {
      "cell_type": "code",
      "source": [
        "import numpy as np"
      ],
      "metadata": {
        "id": "HAzYw8cKNw8J"
      },
      "execution_count": 28,
      "outputs": []
    },
    {
      "cell_type": "code",
      "source": [
        "#Recap\n",
        "arr =np.array([[1,2,3],[4,5,6]])"
      ],
      "metadata": {
        "id": "Zmev12HdN8sN"
      },
      "execution_count": 30,
      "outputs": []
    },
    {
      "cell_type": "code",
      "source": [
        "#Dot product_m*n//n*p\n",
        "arr1=np.random.randint(1,2,(3,1))"
      ],
      "metadata": {
        "id": "70RdLo7DOU5A"
      },
      "execution_count": 31,
      "outputs": []
    },
    {
      "cell_type": "code",
      "source": [
        "arr.shape\n",
        "arr1.shape"
      ],
      "metadata": {
        "colab": {
          "base_uri": "https://localhost:8080/"
        },
        "id": "TKPWunYpOtpZ",
        "outputId": "afb03ac1-387a-4a01-ba76-7d1fbb32b002"
      },
      "execution_count": 32,
      "outputs": [
        {
          "output_type": "execute_result",
          "data": {
            "text/plain": [
              "(3, 1)"
            ]
          },
          "metadata": {},
          "execution_count": 32
        }
      ]
    },
    {
      "cell_type": "code",
      "source": [
        "result=np.dot(arr,arr1)"
      ],
      "metadata": {
        "id": "5q9yhdqNOzwV"
      },
      "execution_count": 33,
      "outputs": []
    },
    {
      "cell_type": "code",
      "source": [
        "print(result)"
      ],
      "metadata": {
        "colab": {
          "base_uri": "https://localhost:8080/"
        },
        "id": "TwrLzevEPBek",
        "outputId": "407ae028-35ba-4469-a0cb-6ec583c9cdaf"
      },
      "execution_count": 34,
      "outputs": [
        {
          "output_type": "stream",
          "name": "stdout",
          "text": [
            "[[ 6]\n",
            " [15]]\n"
          ]
        }
      ]
    },
    {
      "cell_type": "code",
      "source": [
        "r1=np.random.randint (10,20,(3,3))\n",
        "print (r1)"
      ],
      "metadata": {
        "colab": {
          "base_uri": "https://localhost:8080/"
        },
        "id": "Vo457_yZPJzs",
        "outputId": "8664f98d-06e3-4dcb-af41-b9a6977461cc"
      },
      "execution_count": 35,
      "outputs": [
        {
          "output_type": "stream",
          "name": "stdout",
          "text": [
            "[[16 18 18]\n",
            " [11 19 18]\n",
            " [17 13 16]]\n"
          ]
        }
      ]
    },
    {
      "cell_type": "code",
      "source": [
        "r2=np.eye(3)\n",
        "print(r2)"
      ],
      "metadata": {
        "colab": {
          "base_uri": "https://localhost:8080/"
        },
        "id": "v6CMBwgcPi1S",
        "outputId": "662322c0-542a-4838-a396-1264c981f82f"
      },
      "execution_count": 36,
      "outputs": [
        {
          "output_type": "stream",
          "name": "stdout",
          "text": [
            "[[1. 0. 0.]\n",
            " [0. 1. 0.]\n",
            " [0. 0. 1.]]\n"
          ]
        }
      ]
    },
    {
      "cell_type": "code",
      "source": [
        "#r1.I\n",
        "result2=np.dot(r1,r2)"
      ],
      "metadata": {
        "id": "EhUVwz2aPsK8"
      },
      "execution_count": 37,
      "outputs": []
    },
    {
      "cell_type": "code",
      "source": [
        "print(result2)"
      ],
      "metadata": {
        "colab": {
          "base_uri": "https://localhost:8080/"
        },
        "id": "u5kJkhPhQD05",
        "outputId": "4cc65863-6643-447b-fc99-07ea8b971623"
      },
      "execution_count": 38,
      "outputs": [
        {
          "output_type": "stream",
          "name": "stdout",
          "text": [
            "[[16. 18. 18.]\n",
            " [11. 19. 18.]\n",
            " [17. 13. 16.]]\n"
          ]
        }
      ]
    },
    {
      "cell_type": "code",
      "source": [
        "#M.I=I.M=M"
      ],
      "metadata": {
        "id": "OHWImV8yQLhI"
      },
      "execution_count": 39,
      "outputs": []
    },
    {
      "cell_type": "code",
      "source": [
        "#A.B!=B.A"
      ],
      "metadata": {
        "id": "qHjb4GmgQVHJ"
      },
      "execution_count": 40,
      "outputs": []
    },
    {
      "cell_type": "code",
      "source": [
        "# Mathematical operations\n",
        "#+-*/\n",
        "t1=np.random.randint (3,6,(3,3))\n",
        "t2=np.random.randint(3,6,(3,3))"
      ],
      "metadata": {
        "id": "q44W6BZ2Qbhn"
      },
      "execution_count": 41,
      "outputs": []
    },
    {
      "cell_type": "code",
      "source": [
        "print(t1)\n",
        "print(t2)"
      ],
      "metadata": {
        "colab": {
          "base_uri": "https://localhost:8080/"
        },
        "id": "C1O1SAe7RFus",
        "outputId": "45ee81d1-15ca-4d4d-dc56-a659b599449c"
      },
      "execution_count": 45,
      "outputs": [
        {
          "output_type": "stream",
          "name": "stdout",
          "text": [
            "[[5 4 5]\n",
            " [3 5 4]\n",
            " [3 4 5]]\n",
            "[[4 4 5]\n",
            " [4 5 4]\n",
            " [5 5 4]]\n"
          ]
        }
      ]
    },
    {
      "cell_type": "code",
      "source": [
        "t3=t1*t2"
      ],
      "metadata": {
        "id": "-SN_6wKiRZxO"
      },
      "execution_count": 46,
      "outputs": []
    },
    {
      "cell_type": "code",
      "source": [
        "print(t3)"
      ],
      "metadata": {
        "colab": {
          "base_uri": "https://localhost:8080/"
        },
        "id": "IbSQewPaRg0a",
        "outputId": "704ece90-c00d-4b9b-8ca1-55c7a1a594ca"
      },
      "execution_count": 47,
      "outputs": [
        {
          "output_type": "stream",
          "name": "stdout",
          "text": [
            "[[20 16 25]\n",
            " [12 25 16]\n",
            " [15 20 20]]\n"
          ]
        }
      ]
    },
    {
      "cell_type": "code",
      "source": [
        "#Matrix multiplication\n",
        "result=np.dot(arr,arr1)"
      ],
      "metadata": {
        "id": "L4f7DiNkRlFU"
      },
      "execution_count": 48,
      "outputs": []
    },
    {
      "cell_type": "code",
      "source": [
        "# statistical operations\n",
        "mean=t3.mean()\n",
        "max=t3.max()\n",
        "median=np.median(t3)\n",
        "std=np.std(t3)\n",
        "var=np.var(t3)"
      ],
      "metadata": {
        "id": "vlP478mjR6H4"
      },
      "execution_count": 49,
      "outputs": []
    },
    {
      "cell_type": "code",
      "source": [
        "print(median)"
      ],
      "metadata": {
        "colab": {
          "base_uri": "https://localhost:8080/"
        },
        "id": "7R6NK1-3S2cm",
        "outputId": "94e924bb-ed92-4cb5-f4ad-df91ca6d1099"
      },
      "execution_count": 50,
      "outputs": [
        {
          "output_type": "stream",
          "name": "stdout",
          "text": [
            "20.0\n"
          ]
        }
      ]
    },
    {
      "cell_type": "code",
      "source": [
        "print(std)"
      ],
      "metadata": {
        "colab": {
          "base_uri": "https://localhost:8080/"
        },
        "id": "qt1kgsTJS8jq",
        "outputId": "79475c75-6ea4-43d9-e2e2-9885afde9884"
      },
      "execution_count": 51,
      "outputs": [
        {
          "output_type": "stream",
          "name": "stdout",
          "text": [
            "4.184037863058384\n"
          ]
        }
      ]
    },
    {
      "cell_type": "code",
      "source": [
        "std*std"
      ],
      "metadata": {
        "colab": {
          "base_uri": "https://localhost:8080/"
        },
        "id": "dC6jmpDfTASZ",
        "outputId": "361a04b3-4385-41c4-c59b-5953820edada"
      },
      "execution_count": 52,
      "outputs": [
        {
          "output_type": "execute_result",
          "data": {
            "text/plain": [
              "17.506172839506167"
            ]
          },
          "metadata": {},
          "execution_count": 52
        }
      ]
    },
    {
      "cell_type": "code",
      "source": [
        "#Trignometric functions\n",
        "#Sin(x)\n",
        "#Cos(x)\n",
        "#Tan(x)_sin(x)/cod(x)\n",
        "#Cosec_1/sin(x)\n",
        "#Sec_1/cos(x)\n",
        "#Cot_1/tan(x)\n",
        "#angle=np.array ([0,15,30,45,60,75,90])\n",
        "#sin(array)"
      ],
      "metadata": {
        "id": "pkNu5h_GTERX"
      },
      "execution_count": 69,
      "outputs": []
    },
    {
      "cell_type": "code",
      "source": [
        "#angle=np.array([0,15,30,45,60,75,90])\n",
        "#sin(array)"
      ],
      "metadata": {
        "id": "107rAtMjXkfn"
      },
      "execution_count": 72,
      "outputs": []
    },
    {
      "cell_type": "code",
      "source": [
        "print(result)"
      ],
      "metadata": {
        "colab": {
          "base_uri": "https://localhost:8080/"
        },
        "id": "ch5IOlSuYQV6",
        "outputId": "2ae39ae8-ead1-43f3-b51b-912bcef75a3d"
      },
      "execution_count": 78,
      "outputs": [
        {
          "output_type": "stream",
          "name": "stdout",
          "text": [
            "[[ 6]\n",
            " [15]]\n"
          ]
        }
      ]
    },
    {
      "cell_type": "markdown",
      "source": [],
      "metadata": {
        "id": "XBZpwBrVRV_-"
      }
    },
    {
      "cell_type": "code",
      "source": [
        "arr=np.array([1,2,3,4,5,6])"
      ],
      "metadata": {
        "id": "-zMWBnbqYytp"
      },
      "execution_count": 82,
      "outputs": []
    },
    {
      "cell_type": "code",
      "source": [
        "#Reshape the array\n",
        "reshspedarr=arr.reshape(3,2)"
      ],
      "metadata": {
        "id": "WHTJUbSMZI4_"
      },
      "execution_count": 83,
      "outputs": []
    },
    {
      "cell_type": "code",
      "source": [
        "print(reshspedarr)"
      ],
      "metadata": {
        "colab": {
          "base_uri": "https://localhost:8080/"
        },
        "id": "HvZ9LxaAZZhW",
        "outputId": "8ecc6f62-2067-4b6d-d10b-5c9fd07e01c0"
      },
      "execution_count": 84,
      "outputs": [
        {
          "output_type": "stream",
          "name": "stdout",
          "text": [
            "[[1 2]\n",
            " [3 4]\n",
            " [5 6]]\n"
          ]
        }
      ]
    },
    {
      "cell_type": "code",
      "source": [
        "#convert/flatten any n dim array\n",
        "flattenedarr=arr.flatten()\n",
        "print(flattenedarr)"
      ],
      "metadata": {
        "colab": {
          "base_uri": "https://localhost:8080/"
        },
        "id": "fQdmzrlVZfWB",
        "outputId": "e96cb9d3-298c-45a9-ab93-aed2dd2e91e6"
      },
      "execution_count": 87,
      "outputs": [
        {
          "output_type": "stream",
          "name": "stdout",
          "text": [
            "[1 2 3 4 5 6]\n"
          ]
        }
      ]
    },
    {
      "cell_type": "code",
      "source": [
        "#staking the data\n",
        "import numpy as np\n",
        "arr1=np.array([1,2,3,4])\n",
        "arr2=np.array([10,20,30,40])"
      ],
      "metadata": {
        "id": "t30yaR7aae0V"
      },
      "execution_count": 96,
      "outputs": []
    },
    {
      "cell_type": "code",
      "source": [
        "print(np.vstack((arr1,arr2)))"
      ],
      "metadata": {
        "colab": {
          "base_uri": "https://localhost:8080/"
        },
        "id": "Gh4ImisxeIVl",
        "outputId": "f7dc8fda-7c51-40f7-c05e-b3988ea163a8"
      },
      "execution_count": 98,
      "outputs": [
        {
          "output_type": "stream",
          "name": "stdout",
          "text": [
            "[[ 1  2  3  4]\n",
            " [10 20 30 40]]\n"
          ]
        }
      ]
    },
    {
      "cell_type": "code",
      "source": [
        "#vertical stacking\n",
        "arr3=np.vstack((arr1,arr3))\n",
        "print(f\"The shape of arr3 is {arr3.shape}\")"
      ],
      "metadata": {
        "colab": {
          "base_uri": "https://localhost:8080/"
        },
        "id": "ZVIk3iOMeS8D",
        "outputId": "624e1cfc-4a83-4387-8698-e2ce50ccc7ea"
      },
      "execution_count": 100,
      "outputs": [
        {
          "output_type": "stream",
          "name": "stdout",
          "text": [
            "The shape of arr3 is (3, 4)\n"
          ]
        }
      ]
    },
    {
      "cell_type": "code",
      "source": [
        "#Horizantal stacking\n",
        "arr5=np.hstack((arr1,arr2))\n",
        "print(f\"The shape of arr5 is {arr5.shape}\")"
      ],
      "metadata": {
        "colab": {
          "base_uri": "https://localhost:8080/"
        },
        "id": "fUbC9W0oeuy7",
        "outputId": "ffb4f8d6-50d3-4e02-cd24-d67008afcd18"
      },
      "execution_count": 106,
      "outputs": [
        {
          "output_type": "stream",
          "name": "stdout",
          "text": [
            "The shape of arr5 is (8,)\n"
          ]
        }
      ]
    },
    {
      "cell_type": "code",
      "source": [
        "#Filtering\n",
        "arr=np.array ([10,20,30,40,50,60,70,80])\n",
        "fart=arr[arr>40]"
      ],
      "metadata": {
        "id": "UnvWqjRqgCIy"
      },
      "execution_count": 107,
      "outputs": []
    },
    {
      "cell_type": "code",
      "source": [
        "print(arr)"
      ],
      "metadata": {
        "colab": {
          "base_uri": "https://localhost:8080/"
        },
        "id": "QLRQ4LnlgYxu",
        "outputId": "f8efc64e-7601-4634-c654-70cb419e0ed1"
      },
      "execution_count": 109,
      "outputs": [
        {
          "output_type": "stream",
          "name": "stdout",
          "text": [
            "[10 20 30 40 50 60 70 80]\n"
          ]
        }
      ]
    }
  ]
}