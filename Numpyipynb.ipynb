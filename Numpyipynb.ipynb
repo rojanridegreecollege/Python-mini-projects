{
  "nbformat": 4,
  "nbformat_minor": 0,
  "metadata": {
    "colab": {
      "provenance": [],
      "authorship_tag": "ABX9TyPpnX/vm4vDlPmMSx64Hn6Z",
      "include_colab_link": true
    },
    "kernelspec": {
      "name": "python3",
      "display_name": "Python 3"
    },
    "language_info": {
      "name": "python"
    }
  },
  "cells": [
    {
      "cell_type": "markdown",
      "metadata": {
        "id": "view-in-github",
        "colab_type": "text"
      },
      "source": [
        "<a href=\"https://colab.research.google.com/github/rojanridegreecollege/Python-mini-projects/blob/main/Numpyipynb.ipynb\" target=\"_parent\"><img src=\"https://colab.research.google.com/assets/colab-badge.svg\" alt=\"Open In Colab\"/></a>"
      ]
    },
    {
      "cell_type": "code",
      "source": [
        "#Nump-Numatic python\n",
        "#Most powerful package-Libarary\n",
        "\n",
        "#Numpy-Dimensions\n",
        "\n",
        "#A- One Dimensional Array\n",
        "#[A,B]|| [A\n",
        "#.        B]-Two Dimensional Array-Row||colum\n",
        "# Three Dimensional\n",
        "#Array- Storing,Manipulating,similar Data type\n",
        "#Faster than any mathematical functions\n",
        "#convinient compared to other packages\n",
        "#Memory efficiency\n",
        "#support multi dimensional arras\n",
        "\n",
        "#speed(Numpy operations)>speed(Lists operations)\n",
        "#size(Numpy operations)<size(Lists operations)"
      ],
      "metadata": {
        "id": "wPDCgoUb2hf2"
      },
      "execution_count": 1,
      "outputs": []
    },
    {
      "cell_type": "code",
      "source": [
        "# install Numpy_pip3 install Numpy//pip install numpy"
      ],
      "metadata": {
        "id": "6kKshITO7jco"
      },
      "execution_count": 2,
      "outputs": []
    },
    {
      "cell_type": "code",
      "source": [
        "import  numpy as np"
      ],
      "metadata": {
        "id": "cCR4rrpq726L"
      },
      "execution_count": 3,
      "outputs": []
    },
    {
      "cell_type": "code",
      "source": [
        "#create a numpy array\n",
        "#1D array\n",
        "\n",
        "arr1D=np.array([1,2,3,4,5,])\n",
        "print(arr1D)"
      ],
      "metadata": {
        "colab": {
          "base_uri": "https://localhost:8080/"
        },
        "id": "53-tLtwN8LlD",
        "outputId": "3d13db31-5d7c-414f-aa9a-5f05db102d93"
      },
      "execution_count": 4,
      "outputs": [
        {
          "output_type": "stream",
          "name": "stdout",
          "text": [
            "[1 2 3 4 5]\n"
          ]
        }
      ]
    },
    {
      "cell_type": "code",
      "source": [
        "#creting 2D array _Matrix\n",
        "arr2D=np.array([\n",
        "               [1,2,3],[4,5,6]\n",
        "          ])"
      ],
      "metadata": {
        "id": "v1JPiepJ--1e"
      },
      "execution_count": null,
      "outputs": []
    },
    {
      "cell_type": "code",
      "source": [
        "print(arr2D)"
      ],
      "metadata": {
        "colab": {
          "base_uri": "https://localhost:8080/"
        },
        "id": "c5IZ6Zo6Af47",
        "outputId": "7249245c-6a9f-4bec-e5b1-b18b1ffdbd06"
      },
      "execution_count": null,
      "outputs": [
        {
          "output_type": "stream",
          "name": "stdout",
          "text": [
            "[[1 2 3]\n",
            " [4 5 6]]\n"
          ]
        }
      ]
    },
    {
      "cell_type": "code",
      "source": [
        "#creating arrays with default values\n",
        "allzeros=np.zeros((2,3))"
      ],
      "metadata": {
        "id": "_Ov2Gx37AmRT"
      },
      "execution_count": 5,
      "outputs": []
    },
    {
      "cell_type": "code",
      "source": [
        "print(allzeros)"
      ],
      "metadata": {
        "colab": {
          "base_uri": "https://localhost:8080/"
        },
        "id": "lb7ilWFVBqMA",
        "outputId": "d120e083-40d0-4688-fef1-5b2e6c9d5c9d"
      },
      "execution_count": 6,
      "outputs": [
        {
          "output_type": "stream",
          "name": "stdout",
          "text": [
            "[[0. 0. 0.]\n",
            " [0. 0. 0.]]\n"
          ]
        }
      ]
    },
    {
      "cell_type": "code",
      "source": [
        "#creating  matrix with all values of elementsas'1'\n",
        "allones=np.ones((2,3))"
      ],
      "metadata": {
        "id": "Ave45mpSBwTq"
      },
      "execution_count": 7,
      "outputs": []
    },
    {
      "cell_type": "code",
      "source": [
        "print(allones)"
      ],
      "metadata": {
        "colab": {
          "base_uri": "https://localhost:8080/"
        },
        "id": "84wVBEjqCL1G",
        "outputId": "be392206-9add-4ab8-aef3-2ab1b936c0c8"
      },
      "execution_count": null,
      "outputs": [
        {
          "output_type": "stream",
          "name": "stdout",
          "text": [
            "[[1. 1. 1.]\n",
            " [1. 1. 1.]]\n"
          ]
        }
      ]
    },
    {
      "cell_type": "code",
      "source": [
        "#creating matrix  with  all values of elements'constant value_n~full value'\n",
        "allconstant=np.full((2,3),6)\n",
        "print(allconstant)"
      ],
      "metadata": {
        "colab": {
          "base_uri": "https://localhost:8080/"
        },
        "id": "Yg_fE_XyCSbK",
        "outputId": "25366424-4f8c-45a6-86b3-202e19819e66"
      },
      "execution_count": 8,
      "outputs": [
        {
          "output_type": "stream",
          "name": "stdout",
          "text": [
            "[[6 6 6]\n",
            " [6 6 6]]\n"
          ]
        }
      ]
    },
    {
      "cell_type": "code",
      "source": [
        "#create  an identity matrix_I_Square  Matrix\n",
        "identity =np.eye(4)\n",
        "print(identity)\n",
        "#Identity Matrix_ Aiti= 1&&Aij=0\n",
        "#For all A Belongs to RMxN"
      ],
      "metadata": {
        "colab": {
          "base_uri": "https://localhost:8080/"
        },
        "id": "C8hAGbJ5EzpB",
        "outputId": "fa804fac-67ce-4a71-bd7f-8a82853e631d"
      },
      "execution_count": null,
      "outputs": [
        {
          "output_type": "stream",
          "name": "stdout",
          "text": [
            "[[1. 0. 0. 0.]\n",
            " [0. 1. 0. 0.]\n",
            " [0. 0. 1. 0.]\n",
            " [0. 0. 0. 1.]]\n"
          ]
        }
      ]
    },
    {
      "cell_type": "code",
      "source": [
        "#creating  random Matrices\n",
        "\n",
        "#between 0 and 1\n",
        "ran1=np.random.rand(3,3)"
      ],
      "metadata": {
        "id": "Y5yF1PFOFzWa"
      },
      "execution_count": null,
      "outputs": []
    },
    {
      "cell_type": "code",
      "source": [
        "#between a and"
      ],
      "metadata": {
        "id": "0swcCV3XGVb8"
      },
      "execution_count": null,
      "outputs": []
    },
    {
      "cell_type": "code",
      "source": [
        "print(3,3)"
      ],
      "metadata": {
        "colab": {
          "base_uri": "https://localhost:8080/"
        },
        "id": "TjHq_f2fGOEn",
        "outputId": "8121578e-b38b-48b9-e184-5268fca15969"
      },
      "execution_count": null,
      "outputs": [
        {
          "output_type": "stream",
          "name": "stdout",
          "text": [
            "3 3\n"
          ]
        }
      ]
    },
    {
      "cell_type": "code",
      "source": [
        "#between a and b\n",
        "rand2=np.random.randint(10,20,(3,3))"
      ],
      "metadata": {
        "id": "I506m9xuGf7b"
      },
      "execution_count": 9,
      "outputs": []
    },
    {
      "cell_type": "code",
      "source": [
        "print(rand2)"
      ],
      "metadata": {
        "colab": {
          "base_uri": "https://localhost:8080/"
        },
        "id": "W0ZxnmrzG22Z",
        "outputId": "24fecfe2-9cf2-4b97-d048-370943fbff9b"
      },
      "execution_count": 10,
      "outputs": [
        {
          "output_type": "stream",
          "name": "stdout",
          "text": [
            "[[19 16 13]\n",
            " [15 12 19]\n",
            " [11 15 14]]\n"
          ]
        }
      ]
    },
    {
      "cell_type": "code",
      "source": [
        "#Array properties\n",
        "arr=np.array([[1,2,3,4],[2,3,4,5]])\n",
        "print(arr)"
      ],
      "metadata": {
        "colab": {
          "base_uri": "https://localhost:8080/"
        },
        "id": "FcXIgluYHhAF",
        "outputId": "a348fa02-5ba4-434e-d38a-5c90f4784235"
      },
      "execution_count": 11,
      "outputs": [
        {
          "output_type": "stream",
          "name": "stdout",
          "text": [
            "[[1 2 3 4]\n",
            " [2 3 4 5]]\n"
          ]
        }
      ]
    },
    {
      "cell_type": "code",
      "source": [
        "#Shape of array\n",
        "print(f\"\\n The shape of the array is {arr.shape}\")\n",
        "#Size of array\n",
        "print (f'The size of the array is {arr.size}')\n",
        "#Data type of array\n",
        "print(f'The Data type of the array is {arr.dtype}')\n",
        "#Dimensions of array\n",
        "print(f'The Dimensions of the array is {arr.ndim}')\n",
        "#Data type of array\n",
        "print(f'The Data type of the array is {arr.dtype}')\n",
        "#Dimensions of array\n",
        "print(f'The Dimensions of the array is {arr.ndim}')\n",
        "#Data type of array\n",
        "print(f'The Data type of the array is {arr.dtype}')\n",
        "#Dimensions of array\n",
        "print(f'The Dimensions of the array is {arr.ndim}')\n",
        "#Data type of array\n",
        "print(f'The Data type of the array is {arr.dtype}')\n",
        "#Dimensions of array\n",
        "print(f'The Dimensions of the array is {arr.ndim}')"
      ],
      "metadata": {
        "id": "hr9EI4CgH7Ch",
        "colab": {
          "base_uri": "https://localhost:8080/"
        },
        "outputId": "a41cd672-15bc-4d36-a4b3-1975f62a3798"
      },
      "execution_count": 17,
      "outputs": [
        {
          "output_type": "stream",
          "name": "stdout",
          "text": [
            "\n",
            " The shape of the array is (2, 4)\n",
            "The size of the array is 8\n",
            "The Data type of the array is int64\n",
            "The Dimensions of the array is 2\n",
            "The Data type of the array is int64\n",
            "The Dimensions of the array is 2\n",
            "The Data type of the array is int64\n",
            "The Dimensions of the array is 2\n",
            "The Data type of the array is int64\n",
            "The Dimensions of the array is 2\n"
          ]
        }
      ]
    },
    {
      "cell_type": "code",
      "source": [
        "#Indexing and slicing\n",
        "#Access the elements in 1D Array\n",
        "arr=np.array([1,2,3,4])\n",
        "print(arr)\n",
        "print(arr[3])"
      ],
      "metadata": {
        "colab": {
          "base_uri": "https://localhost:8080/"
        },
        "id": "Owadn-EG7CLA",
        "outputId": "5a0d8002-f8cc-443d-a3bc-124764858822"
      },
      "execution_count": 18,
      "outputs": [
        {
          "output_type": "stream",
          "name": "stdout",
          "text": [
            "[1 2 3 4]\n",
            "4\n"
          ]
        }
      ]
    },
    {
      "cell_type": "code",
      "source": [
        "#Slicing the elements\n",
        "print (arr[0:3])\n",
        "#Acess the element in 2D Array\n",
        "arr2=np.array([[1,2,3],[2,3,4]])\n",
        "print(arr2)\n",
        "print(arr2[1,1])\n",
        "print(arr2[0,:])#first row  with all columns\n",
        "print(arr2[:,0])#firdt column  with  all rows"
      ],
      "metadata": {
        "colab": {
          "base_uri": "https://localhost:8080/"
        },
        "id": "_SpCUWDM7rHd",
        "outputId": "886a7328-a228-4f19-cbba-9e03d05bf5c0"
      },
      "execution_count": 19,
      "outputs": [
        {
          "output_type": "stream",
          "name": "stdout",
          "text": [
            "[1 2 3]\n",
            "[[1 2 3]\n",
            " [2 3 4]]\n",
            "3\n",
            "[1 2 3]\n",
            "[1 2]\n"
          ]
        }
      ]
    },
    {
      "cell_type": "code",
      "source": [
        "L1=[]\n",
        "[L1.append(_) for _ in range(10)]\n",
        "\n",
        "L1=[]\n",
        "[L1.append(_) for _ in range(10)]\n",
        "\n",
        "import numpy as np\n",
        "L1=np.arange(0,10)\n",
        "print(L1)"
      ],
      "metadata": {
        "colab": {
          "base_uri": "https://localhost:8080/"
        },
        "id": "AVly33rV9RLA",
        "outputId": "2ead1671-4f44-460c-ac7d-ce95271b1811"
      },
      "execution_count": 24,
      "outputs": [
        {
          "output_type": "stream",
          "name": "stdout",
          "text": [
            "[0 1 2 3 4 5 6 7 8 9]\n"
          ]
        }
      ]
    },
    {
      "cell_type": "code",
      "source": [
        "# Mathematical operations\n",
        "a=np.array([1,2,3])\n",
        "b=np.array([3,4,5])\n",
        "print(f'The sum of a and b is {a+b}')\n",
        "print(f'The diff of a and b is {a-b}')\n",
        "print (f'The product of a and b is{a*b}')\n",
        "print(f'The division of a and b is{a/b}')"
      ],
      "metadata": {
        "colab": {
          "base_uri": "https://localhost:8080/"
        },
        "id": "P2R1LQfu-CGg",
        "outputId": "8687fc66-8ebd-4a11-ec05-0a9c3e0ec381"
      },
      "execution_count": 26,
      "outputs": [
        {
          "output_type": "stream",
          "name": "stdout",
          "text": [
            "The sum of a and b is [4 6 8]\n",
            "The diff of a and b is [-2 -2 -2]\n",
            "The product of a and b is[ 3  8 15]\n",
            "The division of a and b is[0.33333333 0.5        0.6       ]\n"
          ]
        }
      ]
    },
    {
      "cell_type": "code",
      "source": [
        "#Matrix Multiplication\n",
        "b1=np.array([[2,3,0],[2,3,4]])\n",
        "b2=np.array([[5,6],[7,8],[1,3]])\n",
        "#Dot.product\n",
        "C=np.dot(b1,b2)\n",
        "print(C)"
      ],
      "metadata": {
        "colab": {
          "base_uri": "https://localhost:8080/"
        },
        "id": "n76AjvDmAGNL",
        "outputId": "8f0532d6-f95e-43a7-978f-23488058aa18"
      },
      "execution_count": 33,
      "outputs": [
        {
          "output_type": "stream",
          "name": "stdout",
          "text": [
            "[[31 36]\n",
            " [35 48]]\n"
          ]
        }
      ]
    },
    {
      "cell_type": "code",
      "source": [
        "print(b1)"
      ],
      "metadata": {
        "colab": {
          "base_uri": "https://localhost:8080/"
        },
        "id": "U7tny0vgCXoV",
        "outputId": "1cb26d84-dd85-4c68-da31-f91cc71ebb0b"
      },
      "execution_count": 34,
      "outputs": [
        {
          "output_type": "stream",
          "name": "stdout",
          "text": [
            "[[2 3 0]\n",
            " [2 3 4]]\n"
          ]
        }
      ]
    },
    {
      "cell_type": "code",
      "source": [
        "print(b2)"
      ],
      "metadata": {
        "colab": {
          "base_uri": "https://localhost:8080/"
        },
        "id": "5TMVPrR-Cd_h",
        "outputId": "004156b2-7395-4527-922a-0de4c5a4adf9"
      },
      "execution_count": 36,
      "outputs": [
        {
          "output_type": "stream",
          "name": "stdout",
          "text": [
            "[[5 6]\n",
            " [7 8]\n",
            " [1 3]]\n"
          ]
        }
      ]
    },
    {
      "cell_type": "code",
      "source": [
        "[\n",
        "  [22,31],\n",
        "  [35,48]\n",
        "]"
      ],
      "metadata": {
        "colab": {
          "base_uri": "https://localhost:8080/"
        },
        "id": "o8mj1XuSCrwQ",
        "outputId": "040acacf-00ed-4dab-dd3a-53fce6a6f904"
      },
      "execution_count": 37,
      "outputs": [
        {
          "output_type": "execute_result",
          "data": {
            "text/plain": [
              "[[22, 31], [35, 48]]"
            ]
          },
          "metadata": {},
          "execution_count": 37
        }
      ]
    }
  ]
}